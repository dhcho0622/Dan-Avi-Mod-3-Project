{
 "cells": [
  {
   "cell_type": "markdown",
   "metadata": {},
   "source": [
    "Import all required libraries"
   ]
  },
  {
   "cell_type": "code",
   "execution_count": 1,
   "metadata": {},
   "outputs": [],
   "source": [
    "import numpy as np \n",
    "import pandas as pd\n",
    "import seaborn as sns\n",
    "from datetime import datetime\n",
    "import matplotlib.pyplot as plt\n",
    "from scipy import stats\n",
    "import statsmodels.api as sm\n",
    "from statsmodels.formula.api import ols\n",
    "from sklearn import linear_model\n",
    "from sklearn.linear_model import LinearRegression\n",
    "from sklearn.model_selection import train_test_split\n",
    "from sklearn import metrics\n",
    "from sklearn.preprocessing import PolynomialFeatures\n",
    "from sklearn.preprocessing import StandardScaler\n",
    "from scipy.stats import chi2_contingency\n",
    "from scipy.stats import chi2\n",
    "from sklearn.linear_model import LogisticRegression\n",
    "from sklearn.metrics import accuracy_score, f1_score, recall_score\n",
    "from sklearn.neighbors import KNeighborsClassifier\n",
    "from sklearn import metrics\n",
    "from sklearn.tree import DecisionTreeClassifier\n",
    "from sklearn.model_selection import GridSearchCV\n",
    "from sklearn.model_selection import RandomizedSearchCV\n",
    "from sklearn.model_selection import cross_val_score\n",
    "from sklearn.ensemble import RandomForestClassifier\n",
    "from sklearn.model_selection import cross_val_score\n",
    "from sklearn.metrics import classification_report\n",
    "from sklearn.ensemble import RandomForestClassifier\n",
    "from sklearn.ensemble import AdaBoostClassifier\n",
    "from sklearn.metrics import confusion_matrix\n",
    "import xgboost as xgb\n",
    "from sklearn.utils import resample\n",
    "from sklearn.ensemble import VotingClassifier\n",
    "import os\n",
    "import itertools\n",
    "\n",
    "os.environ['KMP_DUPLICATE_LIB_OK']='True'\n",
    "plt.style.use('seaborn')\n",
    "pd.options.display.max_rows = 4000\n",
    "%matplotlib inline\n",
    "pd.set_option('display.max_columns', 100)"
   ]
  },
  {
   "cell_type": "markdown",
   "metadata": {},
   "source": [
    "## Import Data from Data.World"
   ]
  },
  {
   "cell_type": "code",
   "execution_count": 2,
   "metadata": {},
   "outputs": [],
   "source": [
    "df_data1 = pd.read_csv('1976_to_2015_Draftees_edit2.csv',index_col=0)"
   ]
  },
  {
   "cell_type": "code",
   "execution_count": 5,
   "metadata": {},
   "outputs": [],
   "source": [
    "# Dropping columns we dont need for merge\n",
    "df_data1.drop(columns=['All_NBA','All.Star','Yrs','Games','Minutes.Played','PTS', 'TRB', 'AST', 'FG_Percentage',\n",
    "       'TP_Percentage', 'FT_Percentage', 'Minutes.per.Game', 'Points.per.Game',\n",
    "       'TRB.per.game', 'Assits.per.Game', 'Win.Share', 'WS_per_game', 'BPM',\n",
    "       'VORP', 'Executive', 'Tenure', 'Exec_ID', 'Exec_draft_exp','first_year', 'second_year', 'third_year',\n",
    "       'fourth_year', 'fifth_year'],inplace = True)"
   ]
  },
  {
   "cell_type": "code",
   "execution_count": 6,
   "metadata": {},
   "outputs": [],
   "source": [
    "# Column must be renamed in order to merge the two data sets\n",
    "df_data1 = df_data1.rename(columns={'Player':'Name'})"
   ]
  },
  {
   "cell_type": "code",
   "execution_count": 8,
   "metadata": {},
   "outputs": [],
   "source": [
    "# Imported 2nd data frame that had our target variable\n",
    "df_data2 = pd.read_csv('nba_logreg.csv')"
   ]
  },
  {
   "cell_type": "code",
   "execution_count": 10,
   "metadata": {},
   "outputs": [],
   "source": [
    "# Some name repeated twice so dropped duplicates\n",
    "df_data2.drop_duplicates(subset ='Name', keep = False, inplace = True)"
   ]
  },
  {
   "cell_type": "markdown",
   "metadata": {},
   "source": [
    "## Merged Data Frame"
   ]
  },
  {
   "cell_type": "code",
   "execution_count": 11,
   "metadata": {},
   "outputs": [],
   "source": [
    "# Merged data frames by name and used an inner join\n",
    "df = df_data2.merge(df_data1, on='Name', how='inner')"
   ]
  },
  {
   "cell_type": "code",
   "execution_count": 13,
   "metadata": {},
   "outputs": [
    {
     "data": {
      "text/plain": [
       "(1088, 26)"
      ]
     },
     "execution_count": 13,
     "metadata": {},
     "output_type": "execute_result"
    }
   ],
   "source": [
    "df.shape"
   ]
  },
  {
   "cell_type": "code",
   "execution_count": 14,
   "metadata": {},
   "outputs": [],
   "source": [
    "# Some duplicated carried over again so dropped them again\n",
    "df.drop_duplicates(subset ='Name', keep = False, inplace = True)"
   ]
  },
  {
   "cell_type": "code",
   "execution_count": 15,
   "metadata": {},
   "outputs": [
    {
     "data": {
      "text/plain": [
       "(1058, 26)"
      ]
     },
     "execution_count": 15,
     "metadata": {},
     "output_type": "execute_result"
    }
   ],
   "source": [
    "df.shape"
   ]
  },
  {
   "cell_type": "markdown",
   "metadata": {},
   "source": [
    "## Data Cleaning and Feature Engineering"
   ]
  },
  {
   "cell_type": "code",
   "execution_count": 17,
   "metadata": {},
   "outputs": [],
   "source": [
    "# Created a dictionary to replace all power 5 teams with a 1\n",
    "conf_dict = {'University of Kentucky':1,'Duke University':1,'University of North Carolina':1,'University of California, Los Angeles':1,\n",
    "'University of Arizona':1,'University of Kansas':1,'Syracuse University':1,'Georgia Institute of Technology':1,\n",
    "'University of Louisville':1,'University of Michigan':1,'University of Notre Dame':1,'Ohio State University':1,\n",
    "'North Carolina State University':1,'University of Alabama':1,'Michigan State University':1,'University of Arkansas':1,\n",
    "'University of Maryland':1,'Indiana University':1,'Louisiana State University':1,'Stanford University':1,\n",
    "'Purdue University':1,'University of Florida':1,'University of Tennessee':1,'University of Missouri':1,\n",
    "'Oklahoma State University':1,'University of Illinois at Urbana-Champaign':1,'Clemson University':1,'University of Washington':1,\n",
    "'University of Virginia':1,'Wake Forest University':1,'University of Pittsburgh':1,'Florida State University':1,\n",
    "'University of California':1,'Oregon State University':1,'University of Minnesota':1,'Iowa State University':1,\n",
    "'University of Utah':1,'University of Southern California':1,'University of Iowa':1,'Boston College':1,\n",
    "'Arizona State University':1,'University of Georgia':1,'University of Colorado':1,'University of Oklahoma':1,\n",
    "'Auburn University':1,'University of Wisconsin':1,'University of Texas at El Paso':1,'University of Oregon':1,\n",
    "'Vanderbilt University':1,'Baylor University':1,'Texas A&M University':1,'University of South Carolina':1,\n",
    "'University of Nebraska':1,'Kansas State University':1,'Rutgers University':1,'University of Tennessee at Chattanooga':1,\n",
    "'Virginia Polytechnic Institute and State University':1,'Washington State University':1,'Texas Christian University':1,\n",
    "'University of Mississippi':1,'Texas Tech University':1,'University of Nebraska at Kearney':1,'University of Missouri-Kansas City':1,\n",
    "'University of Alabama at Birmingham':1,'Pennsylvania State University':1,'University of Wisconsin-Green Bay':1,\n",
    "'University of Wisconsin-Stevens Point':1,'Indiana University-Purdue University Indianapolis':1,'West Virginia University':1,\n",
    "'University of Miami':1}"
   ]
  },
  {
   "cell_type": "code",
   "execution_count": 18,
   "metadata": {},
   "outputs": [],
   "source": [
    "# Feature engineered a new column for power 5 conf ncaa teams\n",
    "df['conference'] = df['College'].replace(conf_dict)\n",
    "df['conference'] = np.where(df['conference']!=1,0,df['conference'])"
   ]
  },
  {
   "cell_type": "code",
   "execution_count": 19,
   "metadata": {},
   "outputs": [
    {
     "data": {
      "text/plain": [
       "1    664\n",
       "0    394\n",
       "Name: conference, dtype: int64"
      ]
     },
     "execution_count": 19,
     "metadata": {},
     "output_type": "execute_result"
    }
   ],
   "source": [
    "df['conference'].value_counts()"
   ]
  },
  {
   "cell_type": "code",
   "execution_count": 20,
   "metadata": {},
   "outputs": [],
   "source": [
    "# Our original data set was from 2015 and predicted recent players already. We went back to update all of those predictions with the correct ones\n",
    "over5years_dict= {'Michael Carter-Williams':1, 'Trey Burke':1, 'Victor Oladipo':1, 'Ben McLemore':1, 'Kentavious Caldwell-Pope':1, 'Mason Plumlee':1, 'Cody Zeller':1, 'Tony Snell':1, 'C.J. McCollum':1, 'Jeff Withey':1, 'Andre Roberson':1, 'Reggie Bullock':1, 'Otto Porter':1,\n",
    "                  'Solomon Hill':1, 'Shabazz Muhammad':1, 'Nerlens Noel':1,'Spencer Dinwiddie':1, 'Gary Harris':1, 'Kyle Anderson':1, 'Noah Vonleh':1, 'Elfrid Payton':1, 'Jabari Parker':1, 'Marcus Smart':1, 'Jordan Clarkson':1, 'Zach LaVine':1, 'Rodney Hood':1, 'Jerami Grant':1,\n",
    "                  'Shabazz Napier':1, 'Aaron Gordon':1, 'T.J. Warren':1,'Karl-Anthony Towns':1, 'Jahlil Okafor':1, 'Justise Winslow':1, \"D'Angelo Russell\":1,'Devin Booker':1, 'Stanley Johnson':1, 'Myles Turner':1, 'Willie Cauley-Stein':1, 'Josh Richardson':1, 'Rondae Hollis-Jefferson':1, \n",
    "                  'Frank Kaminsky':1,'Larry Nance Jr.':1,'Bobby Portis':1, 'Jerian Grant':1, 'Tyus Jones':1, 'Richaun Holmes':1,'Justin Anderson':1, 'Kelly Oubre':1}\n",
    "                  "
   ]
  },
  {
   "cell_type": "code",
   "execution_count": 21,
   "metadata": {},
   "outputs": [],
   "source": [
    "# Replace our target variable with the correct number to reflect current time\n",
    "df['FINAL_5Yrs'] = df['Name'].replace(over5years_dict)\n",
    "df['FINAL_5Yrs'] = np.where(df['FINAL_5Yrs']==df['Name'],df['TARGET_5Yrs'],df['FINAL_5Yrs'])"
   ]
  },
  {
   "cell_type": "code",
   "execution_count": 22,
   "metadata": {},
   "outputs": [],
   "source": [
    "# changed our targetvariable to an integer\n",
    "df['FINAL_5Yrs'] = df['FINAL_5Yrs'].astype(int)\n",
    "# engineered new column to see which players took a 3Pt shot over their rookie season\n",
    "df['3PA_Shot'] = np.where(df['3PA']>0,1,0)\n",
    "# engineered a metric called assist to turnover ratio which is popular today\n",
    "df['AST_TOV'] = df['AST']/df['TOV']\n",
    "# engineered true fg% which takes into account pts, fga, fta\n",
    "df['True_FG%'] = df['PTS']/(2*df['FGA'] + (.44*df['FTA']))*100\n",
    "# engineered points per possession metric which is also very widely used today\n",
    "df['PPP'] = df['PTS']/(df['FGA']+(0.44*df['FTA'])+df['TOV'])\n",
    "# engineered free throw rate\n",
    "df['FTR'] = (df['FTA']/df['FGA'])*100\n",
    "# engineered a players turn over rate%\n",
    "df['TOV%'] = df['TOV']/(df['FGA']+0.44 * df['FTA']+df['TOV'])*100\n",
    "# engineered the hollinger assist ratio\n",
    "df['Hasst%'] = df['AST']/(df['FGA']+.475 * df['FTA']+df['AST']+df['TOV'])*100\n",
    "# cleaned up any nan values for 3P%\n",
    "df['3P%'].fillna(0, inplace = True)"
   ]
  },
  {
   "cell_type": "code",
   "execution_count": 24,
   "metadata": {},
   "outputs": [
    {
     "data": {
      "text/plain": [
       "FINAL_5Yrs        1.000000\n",
       "TARGET_5Yrs       0.899888\n",
       "GP                0.402354\n",
       "MIN               0.368323\n",
       "PTS               0.347726\n",
       "FGM               0.346181\n",
       "DREB              0.344193\n",
       "REB               0.334666\n",
       "FGA               0.322110\n",
       "FTM               0.308246\n",
       "FTA               0.302987\n",
       "TOV               0.285795\n",
       "OREB              0.280410\n",
       "PPP               0.276911\n",
       "STL               0.274750\n",
       "True_FG%          0.256613\n",
       "BLK               0.237380\n",
       "FG%               0.210143\n",
       "AST               0.199273\n",
       "FT%               0.146148\n",
       "3P Made           0.121758\n",
       "3PA               0.110435\n",
       "3P%               0.056157\n",
       "Draft_Yr          0.055950\n",
       "FTR               0.054166\n",
       "AST_TOV           0.037992\n",
       "3PA_Shot         -0.000026\n",
       "Hasst%           -0.009827\n",
       "attend_college   -0.078804\n",
       "TOV%             -0.089345\n",
       "Pk               -0.320241\n",
       "Name: FINAL_5Yrs, dtype: float64"
      ]
     },
     "execution_count": 24,
     "metadata": {},
     "output_type": "execute_result"
    }
   ],
   "source": [
    "# GP, MIN, PTS have the highest correlation to target variable\n",
    "df.corr()['FINAL_5Yrs'].sort_values(ascending = False)"
   ]
  },
  {
   "cell_type": "code",
   "execution_count": 25,
   "metadata": {},
   "outputs": [
    {
     "data": {
      "text/html": [
       "<div>\n",
       "<style scoped>\n",
       "    .dataframe tbody tr th:only-of-type {\n",
       "        vertical-align: middle;\n",
       "    }\n",
       "\n",
       "    .dataframe tbody tr th {\n",
       "        vertical-align: top;\n",
       "    }\n",
       "\n",
       "    .dataframe thead th {\n",
       "        text-align: right;\n",
       "    }\n",
       "</style>\n",
       "<table border=\"1\" class=\"dataframe\">\n",
       "  <thead>\n",
       "    <tr style=\"text-align: right;\">\n",
       "      <th></th>\n",
       "      <th>GP</th>\n",
       "      <th>MIN</th>\n",
       "      <th>PTS</th>\n",
       "      <th>FGM</th>\n",
       "      <th>FGA</th>\n",
       "      <th>FG%</th>\n",
       "      <th>3P Made</th>\n",
       "      <th>3PA</th>\n",
       "      <th>3P%</th>\n",
       "      <th>FTM</th>\n",
       "      <th>FTA</th>\n",
       "      <th>FT%</th>\n",
       "      <th>OREB</th>\n",
       "      <th>DREB</th>\n",
       "      <th>REB</th>\n",
       "      <th>AST</th>\n",
       "      <th>STL</th>\n",
       "      <th>BLK</th>\n",
       "      <th>TOV</th>\n",
       "      <th>TARGET_5Yrs</th>\n",
       "      <th>Draft_Yr</th>\n",
       "      <th>Pk</th>\n",
       "      <th>attend_college</th>\n",
       "      <th>FINAL_5Yrs</th>\n",
       "      <th>3PA_Shot</th>\n",
       "      <th>AST_TOV</th>\n",
       "      <th>True_FG%</th>\n",
       "      <th>PPP</th>\n",
       "      <th>FTR</th>\n",
       "      <th>TOV%</th>\n",
       "      <th>Hasst%</th>\n",
       "    </tr>\n",
       "  </thead>\n",
       "  <tbody>\n",
       "    <tr>\n",
       "      <th>count</th>\n",
       "      <td>1058.000000</td>\n",
       "      <td>1058.000000</td>\n",
       "      <td>1058.000000</td>\n",
       "      <td>1058.000000</td>\n",
       "      <td>1058.000000</td>\n",
       "      <td>1058.000000</td>\n",
       "      <td>1058.000000</td>\n",
       "      <td>1058.000000</td>\n",
       "      <td>1058.000000</td>\n",
       "      <td>1058.000000</td>\n",
       "      <td>1058.000000</td>\n",
       "      <td>1058.000000</td>\n",
       "      <td>1058.000000</td>\n",
       "      <td>1058.000000</td>\n",
       "      <td>1058.000000</td>\n",
       "      <td>1058.000000</td>\n",
       "      <td>1058.000000</td>\n",
       "      <td>1058.000000</td>\n",
       "      <td>1058.000000</td>\n",
       "      <td>1058.000000</td>\n",
       "      <td>1058.000000</td>\n",
       "      <td>1058.000000</td>\n",
       "      <td>1058.000000</td>\n",
       "      <td>1058.000000</td>\n",
       "      <td>1058.000000</td>\n",
       "      <td>1058.000000</td>\n",
       "      <td>1058.000000</td>\n",
       "      <td>1058.000000</td>\n",
       "      <td>1058.000000</td>\n",
       "      <td>1058.000000</td>\n",
       "      <td>1058.000000</td>\n",
       "    </tr>\n",
       "    <tr>\n",
       "      <th>mean</th>\n",
       "      <td>62.196597</td>\n",
       "      <td>17.997259</td>\n",
       "      <td>6.976181</td>\n",
       "      <td>2.701985</td>\n",
       "      <td>6.045936</td>\n",
       "      <td>44.380057</td>\n",
       "      <td>0.246881</td>\n",
       "      <td>0.776938</td>\n",
       "      <td>19.122495</td>\n",
       "      <td>1.326181</td>\n",
       "      <td>1.861153</td>\n",
       "      <td>70.470983</td>\n",
       "      <td>1.043006</td>\n",
       "      <td>2.081002</td>\n",
       "      <td>3.122873</td>\n",
       "      <td>1.563422</td>\n",
       "      <td>0.623629</td>\n",
       "      <td>0.380340</td>\n",
       "      <td>1.215217</td>\n",
       "      <td>0.663516</td>\n",
       "      <td>1996.089792</td>\n",
       "      <td>26.898866</td>\n",
       "      <td>0.979206</td>\n",
       "      <td>0.708885</td>\n",
       "      <td>0.724008</td>\n",
       "      <td>1.206661</td>\n",
       "      <td>53.535999</td>\n",
       "      <td>0.849776</td>\n",
       "      <td>31.864426</td>\n",
       "      <td>15.454018</td>\n",
       "      <td>14.892370</td>\n",
       "    </tr>\n",
       "    <tr>\n",
       "      <th>std</th>\n",
       "      <td>16.170307</td>\n",
       "      <td>8.325680</td>\n",
       "      <td>4.249492</td>\n",
       "      <td>1.645844</td>\n",
       "      <td>3.563041</td>\n",
       "      <td>5.911288</td>\n",
       "      <td>0.390467</td>\n",
       "      <td>1.083766</td>\n",
       "      <td>16.262746</td>\n",
       "      <td>0.943837</td>\n",
       "      <td>1.264377</td>\n",
       "      <td>10.331454</td>\n",
       "      <td>0.772379</td>\n",
       "      <td>1.331415</td>\n",
       "      <td>2.019279</td>\n",
       "      <td>1.495181</td>\n",
       "      <td>0.411230</td>\n",
       "      <td>0.412541</td>\n",
       "      <td>0.711512</td>\n",
       "      <td>0.472730</td>\n",
       "      <td>10.739474</td>\n",
       "      <td>24.298486</td>\n",
       "      <td>0.142761</td>\n",
       "      <td>0.454491</td>\n",
       "      <td>0.447224</td>\n",
       "      <td>0.681201</td>\n",
       "      <td>6.014574</td>\n",
       "      <td>0.099011</td>\n",
       "      <td>13.389398</td>\n",
       "      <td>4.375316</td>\n",
       "      <td>8.359071</td>\n",
       "    </tr>\n",
       "    <tr>\n",
       "      <th>min</th>\n",
       "      <td>14.000000</td>\n",
       "      <td>3.100000</td>\n",
       "      <td>1.000000</td>\n",
       "      <td>0.400000</td>\n",
       "      <td>0.800000</td>\n",
       "      <td>26.100000</td>\n",
       "      <td>0.000000</td>\n",
       "      <td>0.000000</td>\n",
       "      <td>0.000000</td>\n",
       "      <td>0.000000</td>\n",
       "      <td>0.000000</td>\n",
       "      <td>0.000000</td>\n",
       "      <td>0.000000</td>\n",
       "      <td>0.200000</td>\n",
       "      <td>0.300000</td>\n",
       "      <td>0.000000</td>\n",
       "      <td>0.000000</td>\n",
       "      <td>0.000000</td>\n",
       "      <td>0.100000</td>\n",
       "      <td>0.000000</td>\n",
       "      <td>1976.000000</td>\n",
       "      <td>1.000000</td>\n",
       "      <td>0.000000</td>\n",
       "      <td>0.000000</td>\n",
       "      <td>0.000000</td>\n",
       "      <td>0.000000</td>\n",
       "      <td>34.375000</td>\n",
       "      <td>0.493250</td>\n",
       "      <td>0.000000</td>\n",
       "      <td>4.649721</td>\n",
       "      <td>0.000000</td>\n",
       "    </tr>\n",
       "    <tr>\n",
       "      <th>25%</th>\n",
       "      <td>49.250000</td>\n",
       "      <td>11.300000</td>\n",
       "      <td>3.800000</td>\n",
       "      <td>1.500000</td>\n",
       "      <td>3.400000</td>\n",
       "      <td>40.600000</td>\n",
       "      <td>0.000000</td>\n",
       "      <td>0.000000</td>\n",
       "      <td>0.000000</td>\n",
       "      <td>0.700000</td>\n",
       "      <td>1.000000</td>\n",
       "      <td>65.025000</td>\n",
       "      <td>0.500000</td>\n",
       "      <td>1.100000</td>\n",
       "      <td>1.600000</td>\n",
       "      <td>0.600000</td>\n",
       "      <td>0.300000</td>\n",
       "      <td>0.100000</td>\n",
       "      <td>0.700000</td>\n",
       "      <td>0.000000</td>\n",
       "      <td>1987.000000</td>\n",
       "      <td>10.000000</td>\n",
       "      <td>1.000000</td>\n",
       "      <td>0.000000</td>\n",
       "      <td>0.000000</td>\n",
       "      <td>0.666667</td>\n",
       "      <td>49.528494</td>\n",
       "      <td>0.785124</td>\n",
       "      <td>22.115385</td>\n",
       "      <td>12.513480</td>\n",
       "      <td>8.594757</td>\n",
       "    </tr>\n",
       "    <tr>\n",
       "      <th>50%</th>\n",
       "      <td>64.000000</td>\n",
       "      <td>16.450000</td>\n",
       "      <td>5.700000</td>\n",
       "      <td>2.200000</td>\n",
       "      <td>5.000000</td>\n",
       "      <td>44.200000</td>\n",
       "      <td>0.100000</td>\n",
       "      <td>0.300000</td>\n",
       "      <td>22.200000</td>\n",
       "      <td>1.100000</td>\n",
       "      <td>1.600000</td>\n",
       "      <td>71.250000</td>\n",
       "      <td>0.800000</td>\n",
       "      <td>1.800000</td>\n",
       "      <td>2.600000</td>\n",
       "      <td>1.100000</td>\n",
       "      <td>0.500000</td>\n",
       "      <td>0.200000</td>\n",
       "      <td>1.000000</td>\n",
       "      <td>1.000000</td>\n",
       "      <td>1995.000000</td>\n",
       "      <td>21.000000</td>\n",
       "      <td>1.000000</td>\n",
       "      <td>1.000000</td>\n",
       "      <td>1.000000</td>\n",
       "      <td>1.062745</td>\n",
       "      <td>53.395754</td>\n",
       "      <td>0.857190</td>\n",
       "      <td>30.078244</td>\n",
       "      <td>14.903130</td>\n",
       "      <td>12.702657</td>\n",
       "    </tr>\n",
       "    <tr>\n",
       "      <th>75%</th>\n",
       "      <td>78.000000</td>\n",
       "      <td>23.400000</td>\n",
       "      <td>9.000000</td>\n",
       "      <td>3.500000</td>\n",
       "      <td>7.875000</td>\n",
       "      <td>47.900000</td>\n",
       "      <td>0.300000</td>\n",
       "      <td>1.100000</td>\n",
       "      <td>32.400000</td>\n",
       "      <td>1.800000</td>\n",
       "      <td>2.400000</td>\n",
       "      <td>77.475000</td>\n",
       "      <td>1.400000</td>\n",
       "      <td>2.700000</td>\n",
       "      <td>4.100000</td>\n",
       "      <td>2.000000</td>\n",
       "      <td>0.800000</td>\n",
       "      <td>0.500000</td>\n",
       "      <td>1.600000</td>\n",
       "      <td>1.000000</td>\n",
       "      <td>2006.000000</td>\n",
       "      <td>37.000000</td>\n",
       "      <td>1.000000</td>\n",
       "      <td>1.000000</td>\n",
       "      <td>1.000000</td>\n",
       "      <td>1.571429</td>\n",
       "      <td>57.250117</td>\n",
       "      <td>0.915652</td>\n",
       "      <td>39.130435</td>\n",
       "      <td>17.905328</td>\n",
       "      <td>19.676016</td>\n",
       "    </tr>\n",
       "    <tr>\n",
       "      <th>max</th>\n",
       "      <td>82.000000</td>\n",
       "      <td>40.900000</td>\n",
       "      <td>23.700000</td>\n",
       "      <td>9.800000</td>\n",
       "      <td>19.700000</td>\n",
       "      <td>73.700000</td>\n",
       "      <td>2.300000</td>\n",
       "      <td>6.500000</td>\n",
       "      <td>100.000000</td>\n",
       "      <td>6.000000</td>\n",
       "      <td>8.500000</td>\n",
       "      <td>100.000000</td>\n",
       "      <td>5.300000</td>\n",
       "      <td>8.800000</td>\n",
       "      <td>12.300000</td>\n",
       "      <td>10.600000</td>\n",
       "      <td>2.500000</td>\n",
       "      <td>3.400000</td>\n",
       "      <td>4.200000</td>\n",
       "      <td>1.000000</td>\n",
       "      <td>2015.000000</td>\n",
       "      <td>190.000000</td>\n",
       "      <td>1.000000</td>\n",
       "      <td>1.000000</td>\n",
       "      <td>1.000000</td>\n",
       "      <td>4.285714</td>\n",
       "      <td>78.413284</td>\n",
       "      <td>1.273726</td>\n",
       "      <td>82.142857</td>\n",
       "      <td>35.529716</td>\n",
       "      <td>52.733119</td>\n",
       "    </tr>\n",
       "  </tbody>\n",
       "</table>\n",
       "</div>"
      ],
      "text/plain": [
       "                GP          MIN          PTS          FGM          FGA  \\\n",
       "count  1058.000000  1058.000000  1058.000000  1058.000000  1058.000000   \n",
       "mean     62.196597    17.997259     6.976181     2.701985     6.045936   \n",
       "std      16.170307     8.325680     4.249492     1.645844     3.563041   \n",
       "min      14.000000     3.100000     1.000000     0.400000     0.800000   \n",
       "25%      49.250000    11.300000     3.800000     1.500000     3.400000   \n",
       "50%      64.000000    16.450000     5.700000     2.200000     5.000000   \n",
       "75%      78.000000    23.400000     9.000000     3.500000     7.875000   \n",
       "max      82.000000    40.900000    23.700000     9.800000    19.700000   \n",
       "\n",
       "               FG%      3P Made          3PA          3P%          FTM  \\\n",
       "count  1058.000000  1058.000000  1058.000000  1058.000000  1058.000000   \n",
       "mean     44.380057     0.246881     0.776938    19.122495     1.326181   \n",
       "std       5.911288     0.390467     1.083766    16.262746     0.943837   \n",
       "min      26.100000     0.000000     0.000000     0.000000     0.000000   \n",
       "25%      40.600000     0.000000     0.000000     0.000000     0.700000   \n",
       "50%      44.200000     0.100000     0.300000    22.200000     1.100000   \n",
       "75%      47.900000     0.300000     1.100000    32.400000     1.800000   \n",
       "max      73.700000     2.300000     6.500000   100.000000     6.000000   \n",
       "\n",
       "               FTA          FT%         OREB         DREB          REB  \\\n",
       "count  1058.000000  1058.000000  1058.000000  1058.000000  1058.000000   \n",
       "mean      1.861153    70.470983     1.043006     2.081002     3.122873   \n",
       "std       1.264377    10.331454     0.772379     1.331415     2.019279   \n",
       "min       0.000000     0.000000     0.000000     0.200000     0.300000   \n",
       "25%       1.000000    65.025000     0.500000     1.100000     1.600000   \n",
       "50%       1.600000    71.250000     0.800000     1.800000     2.600000   \n",
       "75%       2.400000    77.475000     1.400000     2.700000     4.100000   \n",
       "max       8.500000   100.000000     5.300000     8.800000    12.300000   \n",
       "\n",
       "               AST          STL          BLK          TOV  TARGET_5Yrs  \\\n",
       "count  1058.000000  1058.000000  1058.000000  1058.000000  1058.000000   \n",
       "mean      1.563422     0.623629     0.380340     1.215217     0.663516   \n",
       "std       1.495181     0.411230     0.412541     0.711512     0.472730   \n",
       "min       0.000000     0.000000     0.000000     0.100000     0.000000   \n",
       "25%       0.600000     0.300000     0.100000     0.700000     0.000000   \n",
       "50%       1.100000     0.500000     0.200000     1.000000     1.000000   \n",
       "75%       2.000000     0.800000     0.500000     1.600000     1.000000   \n",
       "max      10.600000     2.500000     3.400000     4.200000     1.000000   \n",
       "\n",
       "          Draft_Yr           Pk  attend_college   FINAL_5Yrs     3PA_Shot  \\\n",
       "count  1058.000000  1058.000000     1058.000000  1058.000000  1058.000000   \n",
       "mean   1996.089792    26.898866        0.979206     0.708885     0.724008   \n",
       "std      10.739474    24.298486        0.142761     0.454491     0.447224   \n",
       "min    1976.000000     1.000000        0.000000     0.000000     0.000000   \n",
       "25%    1987.000000    10.000000        1.000000     0.000000     0.000000   \n",
       "50%    1995.000000    21.000000        1.000000     1.000000     1.000000   \n",
       "75%    2006.000000    37.000000        1.000000     1.000000     1.000000   \n",
       "max    2015.000000   190.000000        1.000000     1.000000     1.000000   \n",
       "\n",
       "           AST_TOV     True_FG%          PPP          FTR         TOV%  \\\n",
       "count  1058.000000  1058.000000  1058.000000  1058.000000  1058.000000   \n",
       "mean      1.206661    53.535999     0.849776    31.864426    15.454018   \n",
       "std       0.681201     6.014574     0.099011    13.389398     4.375316   \n",
       "min       0.000000    34.375000     0.493250     0.000000     4.649721   \n",
       "25%       0.666667    49.528494     0.785124    22.115385    12.513480   \n",
       "50%       1.062745    53.395754     0.857190    30.078244    14.903130   \n",
       "75%       1.571429    57.250117     0.915652    39.130435    17.905328   \n",
       "max       4.285714    78.413284     1.273726    82.142857    35.529716   \n",
       "\n",
       "            Hasst%  \n",
       "count  1058.000000  \n",
       "mean     14.892370  \n",
       "std       8.359071  \n",
       "min       0.000000  \n",
       "25%       8.594757  \n",
       "50%      12.702657  \n",
       "75%      19.676016  \n",
       "max      52.733119  "
      ]
     },
     "execution_count": 25,
     "metadata": {},
     "output_type": "execute_result"
    }
   ],
   "source": [
    "df.describe()"
   ]
  },
  {
   "cell_type": "markdown",
   "metadata": {},
   "source": [
    "## Export Cleaned Merged Data Frame"
   ]
  },
  {
   "cell_type": "code",
   "execution_count": 26,
   "metadata": {},
   "outputs": [],
   "source": [
    "import csv\n",
    "df.to_csv('combined_nba_data.csv')"
   ]
  },
  {
   "cell_type": "markdown",
   "metadata": {},
   "source": [
    "## Import Cleaned Data Set"
   ]
  },
  {
   "cell_type": "code",
   "execution_count": 27,
   "metadata": {},
   "outputs": [],
   "source": [
    "df = pd.read_csv('combined_nba_data.csv',index_col=0)"
   ]
  },
  {
   "cell_type": "code",
   "execution_count": 28,
   "metadata": {
    "scrolled": true
   },
   "outputs": [
    {
     "data": {
      "text/plain": [
       "Index(['Name', 'GP', 'MIN', 'PTS', 'FGM', 'FGA', 'FG%', '3P Made', '3PA',\n",
       "       '3P%', 'FTM', 'FTA', 'FT%', 'OREB', 'DREB', 'REB', 'AST', 'STL', 'BLK',\n",
       "       'TOV', 'TARGET_5Yrs', 'Draft_Yr', 'Pk', 'Team', 'College',\n",
       "       'attend_college', 'conference', 'FINAL_5Yrs', '3PA_Shot', 'AST_TOV',\n",
       "       'True_FG%', 'PPP', 'FTR', 'TOV%', 'Hasst%'],\n",
       "      dtype='object')"
      ]
     },
     "execution_count": 28,
     "metadata": {},
     "output_type": "execute_result"
    }
   ],
   "source": [
    "df.keys()"
   ]
  },
  {
   "cell_type": "markdown",
   "metadata": {},
   "source": [
    "## EDA"
   ]
  },
  {
   "cell_type": "code",
   "execution_count": 29,
   "metadata": {},
   "outputs": [
    {
     "data": {
      "image/png": "[encoded data removed]",
      "text/plain": [
       "<Figure size 720x360 with 1 Axes>"
      ]
     },
     "metadata": {},
     "output_type": "display_data"
    }
   ],
   "source": [
    "# Target Variable Countplot\n",
    "sns.set_style('darkgrid')\n",
    "plt.figure(figsize = (10,5))\n",
    "sns.countplot(df['FINAL_5Yrs'], palette= ['grey','lightblue'])\n",
    "plt.title('NBA Rookie Careers <5yrs or >=5yrs')\n",
    "plt.ylabel('# Players')\n",
    "plt.show()"
   ]
  },
  {
   "cell_type": "markdown",
   "metadata": {},
   "source": [
    "We see in the chart above that our dataset has a class imbalance which will need to be resolved when we model our data"
   ]
  },
  {
   "cell_type": "code",
   "execution_count": 123,
   "metadata": {
    "scrolled": false
   },
   "outputs": [
    {
     "data": {
      "image/png": "[encoded data removed]",
      "text/plain": [
       "<Figure size 2160x2160 with 6 Axes>"
      ]
     },
     "metadata": {},
     "output_type": "display_data"
    }
   ],
   "source": [
    "# Histograms of Features\n",
    "\n",
    "notplay = df[df['FINAL_5Yrs']==0]\n",
    "yesplay = df[df['FINAL_5Yrs']==1]\n",
    "\n",
    "sns.set_style('darkgrid')\n",
    "fig = plt.figure(figsize = (30,30))\n",
    "fig.subplots_adjust(hspace = .25)\n",
    "#ax1 and ax2 explain the relationship between attending college and having a longer than average career\n",
    "ax1 = fig.add_subplot(321)\n",
    "ax1.hist(yesplay['attend_college'], bins = 20, alpha = .50,edgecolor= 'black',color ='lightblue')\n",
    "ax1.set_xlabel('Attended College', fontsize = 20)\n",
    "ax1.set_ylabel('# Players',fontsize = 20)\n",
    "ax1.set_title('>=5 Year Vetrean Players who Attended College',fontsize = 30,fontweight='bold')\n",
    "\n",
    "ax2 = fig.add_subplot(322)\n",
    "ax2.hist(notplay['attend_college'], bins = 20, alpha = .50,edgecolor= 'black',color ='lightblue')\n",
    "ax2.set_xlabel('Attended College', fontsize = 20)\n",
    "ax2.set_ylabel('# Players',fontsize = 20)\n",
    "ax2.set_title('<5 Year Career Players who Attended College',fontsize = 30,fontweight='bold')\n",
    "#ax3 and ax4 show the relationship between going to power 5 conference for college and if a career will be longer than average \n",
    "ax3 = fig.add_subplot(323)\n",
    "ax3.hist(yesplay['conference'], bins = 20, alpha = .50,edgecolor= 'black',color ='lightblue')\n",
    "ax3.set_xlabel('Power 5 Conference or Not',fontsize = 20)\n",
    "ax3.set_ylabel('# Players',fontsize = 20)\n",
    "ax3.set_title('>=5 Year Vetrean Players who went to Power 5 NCAA Conference',fontsize = 30,fontweight='bold')\n",
    "\n",
    "ax4 = fig.add_subplot(324)\n",
    "ax4.hist(notplay['conference'], bins = 20, alpha = .50,edgecolor= 'black',color ='lightblue')\n",
    "ax4.set_xlabel('Power 5 Conference or Not',fontsize = 20)\n",
    "ax4.set_ylabel('# Players',fontsize = 20)\n",
    "ax4.set_title('<5 Year Career Players who went to Power 5 NCAA Conference',fontsize = 30,fontweight='bold')\n",
    "#ax5 and ax6 show the relationship between how many games a player plays in his rookie season and \n",
    "#if a career will be longer than average\n",
    "ax5 = fig.add_subplot(325)\n",
    "ax5.hist(yesplay['GP'], bins = 20, alpha = .50,edgecolor= 'black',color ='lightblue')\n",
    "ax5.set_xlabel('Games Played',fontsize = 20)\n",
    "ax5.set_ylabel('# Players',fontsize = 20)\n",
    "ax5.set_title('>=5 Year Vetrean Players Games Played Rookie Season',fontsize = 30,fontweight='bold')\n",
    "\n",
    "ax6 = fig.add_subplot(326)\n",
    "ax6.hist(notplay['GP'], bins = 20, alpha = .50,edgecolor= 'black',color ='lightblue')\n",
    "ax6.set_xlabel('Games Played',fontsize = 20)\n",
    "ax6.set_ylabel('# Players',fontsize = 20)\n",
    "ax6.set_title('<5 Year Career Players Games Played Rookie Season',fontsize = 30,fontweight='bold')\n",
    "\n",
    "plt.show()\n",
    "\n",
    "# Unhash to save chart\n",
    "# fig.savefig('ncaa_nba_histo.png',bbox_inches='tight');"
   ]
  },
  {
   "cell_type": "markdown",
   "metadata": {},
   "source": [
    "Surprisingly what we see in the graphs above is that going to a college in a power 5 conference isn't a good indicator of a players future in the NBA, in fact going to college doesn't even show as much of an indicator. What we do see as a good metric is how many games a rookie plays in is a good indicator of a longer than average career length. The chart on the bottom left is showing a positive relationship between the amount of games played avg career length."
   ]
  },
  {
   "cell_type": "markdown",
   "metadata": {},
   "source": [
    "Does it matter when a player was picked in the draft?"
   ]
  },
  {
   "cell_type": "code",
   "execution_count": 32,
   "metadata": {
    "scrolled": false
   },
   "outputs": [
    {
     "data": {
      "text/html": [
       "<div>\n",
       "<style scoped>\n",
       "    .dataframe tbody tr th:only-of-type {\n",
       "        vertical-align: middle;\n",
       "    }\n",
       "\n",
       "    .dataframe tbody tr th {\n",
       "        vertical-align: top;\n",
       "    }\n",
       "\n",
       "    .dataframe thead th {\n",
       "        text-align: right;\n",
       "    }\n",
       "</style>\n",
       "<table border=\"1\" class=\"dataframe\">\n",
       "  <thead>\n",
       "    <tr style=\"text-align: right;\">\n",
       "      <th>Pk</th>\n",
       "      <th>1</th>\n",
       "      <th>2</th>\n",
       "      <th>3</th>\n",
       "      <th>4</th>\n",
       "      <th>5</th>\n",
       "      <th>6</th>\n",
       "      <th>7</th>\n",
       "      <th>8</th>\n",
       "      <th>9</th>\n",
       "      <th>10</th>\n",
       "      <th>11</th>\n",
       "      <th>12</th>\n",
       "      <th>13</th>\n",
       "      <th>14</th>\n",
       "      <th>15</th>\n",
       "      <th>16</th>\n",
       "      <th>17</th>\n",
       "      <th>18</th>\n",
       "      <th>19</th>\n",
       "      <th>20</th>\n",
       "      <th>21</th>\n",
       "      <th>22</th>\n",
       "      <th>23</th>\n",
       "      <th>24</th>\n",
       "      <th>25</th>\n",
       "      <th>26</th>\n",
       "      <th>27</th>\n",
       "      <th>28</th>\n",
       "      <th>29</th>\n",
       "      <th>30</th>\n",
       "      <th>31</th>\n",
       "      <th>32</th>\n",
       "      <th>33</th>\n",
       "      <th>34</th>\n",
       "      <th>35</th>\n",
       "      <th>36</th>\n",
       "      <th>37</th>\n",
       "      <th>38</th>\n",
       "      <th>39</th>\n",
       "      <th>40</th>\n",
       "      <th>41</th>\n",
       "      <th>42</th>\n",
       "      <th>43</th>\n",
       "      <th>44</th>\n",
       "      <th>45</th>\n",
       "      <th>46</th>\n",
       "      <th>47</th>\n",
       "      <th>48</th>\n",
       "      <th>49</th>\n",
       "      <th>50</th>\n",
       "      <th>...</th>\n",
       "      <th>55</th>\n",
       "      <th>56</th>\n",
       "      <th>57</th>\n",
       "      <th>58</th>\n",
       "      <th>59</th>\n",
       "      <th>60</th>\n",
       "      <th>61</th>\n",
       "      <th>62</th>\n",
       "      <th>64</th>\n",
       "      <th>65</th>\n",
       "      <th>68</th>\n",
       "      <th>69</th>\n",
       "      <th>70</th>\n",
       "      <th>71</th>\n",
       "      <th>73</th>\n",
       "      <th>74</th>\n",
       "      <th>75</th>\n",
       "      <th>76</th>\n",
       "      <th>77</th>\n",
       "      <th>79</th>\n",
       "      <th>82</th>\n",
       "      <th>83</th>\n",
       "      <th>84</th>\n",
       "      <th>85</th>\n",
       "      <th>86</th>\n",
       "      <th>87</th>\n",
       "      <th>88</th>\n",
       "      <th>89</th>\n",
       "      <th>90</th>\n",
       "      <th>97</th>\n",
       "      <th>98</th>\n",
       "      <th>100</th>\n",
       "      <th>103</th>\n",
       "      <th>107</th>\n",
       "      <th>116</th>\n",
       "      <th>117</th>\n",
       "      <th>118</th>\n",
       "      <th>124</th>\n",
       "      <th>133</th>\n",
       "      <th>139</th>\n",
       "      <th>141</th>\n",
       "      <th>150</th>\n",
       "      <th>152</th>\n",
       "      <th>154</th>\n",
       "      <th>156</th>\n",
       "      <th>160</th>\n",
       "      <th>165</th>\n",
       "      <th>166</th>\n",
       "      <th>168</th>\n",
       "      <th>190</th>\n",
       "    </tr>\n",
       "    <tr>\n",
       "      <th>FINAL_5Yrs</th>\n",
       "      <th></th>\n",
       "      <th></th>\n",
       "      <th></th>\n",
       "      <th></th>\n",
       "      <th></th>\n",
       "      <th></th>\n",
       "      <th></th>\n",
       "      <th></th>\n",
       "      <th></th>\n",
       "      <th></th>\n",
       "      <th></th>\n",
       "      <th></th>\n",
       "      <th></th>\n",
       "      <th></th>\n",
       "      <th></th>\n",
       "      <th></th>\n",
       "      <th></th>\n",
       "      <th></th>\n",
       "      <th></th>\n",
       "      <th></th>\n",
       "      <th></th>\n",
       "      <th></th>\n",
       "      <th></th>\n",
       "      <th></th>\n",
       "      <th></th>\n",
       "      <th></th>\n",
       "      <th></th>\n",
       "      <th></th>\n",
       "      <th></th>\n",
       "      <th></th>\n",
       "      <th></th>\n",
       "      <th></th>\n",
       "      <th></th>\n",
       "      <th></th>\n",
       "      <th></th>\n",
       "      <th></th>\n",
       "      <th></th>\n",
       "      <th></th>\n",
       "      <th></th>\n",
       "      <th></th>\n",
       "      <th></th>\n",
       "      <th></th>\n",
       "      <th></th>\n",
       "      <th></th>\n",
       "      <th></th>\n",
       "      <th></th>\n",
       "      <th></th>\n",
       "      <th></th>\n",
       "      <th></th>\n",
       "      <th></th>\n",
       "      <th></th>\n",
       "      <th></th>\n",
       "      <th></th>\n",
       "      <th></th>\n",
       "      <th></th>\n",
       "      <th></th>\n",
       "      <th></th>\n",
       "      <th></th>\n",
       "      <th></th>\n",
       "      <th></th>\n",
       "      <th></th>\n",
       "      <th></th>\n",
       "      <th></th>\n",
       "      <th></th>\n",
       "      <th></th>\n",
       "      <th></th>\n",
       "      <th></th>\n",
       "      <th></th>\n",
       "      <th></th>\n",
       "      <th></th>\n",
       "      <th></th>\n",
       "      <th></th>\n",
       "      <th></th>\n",
       "      <th></th>\n",
       "      <th></th>\n",
       "      <th></th>\n",
       "      <th></th>\n",
       "      <th></th>\n",
       "      <th></th>\n",
       "      <th></th>\n",
       "      <th></th>\n",
       "      <th></th>\n",
       "      <th></th>\n",
       "      <th></th>\n",
       "      <th></th>\n",
       "      <th></th>\n",
       "      <th></th>\n",
       "      <th></th>\n",
       "      <th></th>\n",
       "      <th></th>\n",
       "      <th></th>\n",
       "      <th></th>\n",
       "      <th></th>\n",
       "      <th></th>\n",
       "      <th></th>\n",
       "      <th></th>\n",
       "      <th></th>\n",
       "      <th></th>\n",
       "      <th></th>\n",
       "      <th></th>\n",
       "      <th></th>\n",
       "    </tr>\n",
       "  </thead>\n",
       "  <tbody>\n",
       "    <tr>\n",
       "      <th>0</th>\n",
       "      <td>1.0</td>\n",
       "      <td>1.0</td>\n",
       "      <td>2.0</td>\n",
       "      <td>1.0</td>\n",
       "      <td>0.0</td>\n",
       "      <td>4.0</td>\n",
       "      <td>0.0</td>\n",
       "      <td>3.0</td>\n",
       "      <td>0.0</td>\n",
       "      <td>0.0</td>\n",
       "      <td>3.0</td>\n",
       "      <td>2.0</td>\n",
       "      <td>4.0</td>\n",
       "      <td>8.0</td>\n",
       "      <td>6.0</td>\n",
       "      <td>4.0</td>\n",
       "      <td>7.0</td>\n",
       "      <td>4.0</td>\n",
       "      <td>10.0</td>\n",
       "      <td>4.0</td>\n",
       "      <td>7.0</td>\n",
       "      <td>4.0</td>\n",
       "      <td>3.0</td>\n",
       "      <td>4.0</td>\n",
       "      <td>8.0</td>\n",
       "      <td>7.0</td>\n",
       "      <td>11.0</td>\n",
       "      <td>7.0</td>\n",
       "      <td>7.0</td>\n",
       "      <td>6.0</td>\n",
       "      <td>5.0</td>\n",
       "      <td>6.0</td>\n",
       "      <td>11.0</td>\n",
       "      <td>10.0</td>\n",
       "      <td>8.0</td>\n",
       "      <td>10.0</td>\n",
       "      <td>4.0</td>\n",
       "      <td>8.0</td>\n",
       "      <td>3.0</td>\n",
       "      <td>2.0</td>\n",
       "      <td>4.0</td>\n",
       "      <td>4.0</td>\n",
       "      <td>5.0</td>\n",
       "      <td>5.0</td>\n",
       "      <td>9.0</td>\n",
       "      <td>7.0</td>\n",
       "      <td>5.0</td>\n",
       "      <td>3.0</td>\n",
       "      <td>5.0</td>\n",
       "      <td>4.0</td>\n",
       "      <td>...</td>\n",
       "      <td>5.0</td>\n",
       "      <td>4.0</td>\n",
       "      <td>0.0</td>\n",
       "      <td>3.0</td>\n",
       "      <td>2.0</td>\n",
       "      <td>1.0</td>\n",
       "      <td>1.0</td>\n",
       "      <td>1.0</td>\n",
       "      <td>1.0</td>\n",
       "      <td>0.0</td>\n",
       "      <td>1.0</td>\n",
       "      <td>0.0</td>\n",
       "      <td>0.0</td>\n",
       "      <td>1.0</td>\n",
       "      <td>1.0</td>\n",
       "      <td>1.0</td>\n",
       "      <td>0.0</td>\n",
       "      <td>1.0</td>\n",
       "      <td>2.0</td>\n",
       "      <td>0.0</td>\n",
       "      <td>0.0</td>\n",
       "      <td>2.0</td>\n",
       "      <td>0.0</td>\n",
       "      <td>0.0</td>\n",
       "      <td>1.0</td>\n",
       "      <td>0.0</td>\n",
       "      <td>0.0</td>\n",
       "      <td>2.0</td>\n",
       "      <td>1.0</td>\n",
       "      <td>1.0</td>\n",
       "      <td>1.0</td>\n",
       "      <td>1.0</td>\n",
       "      <td>1.0</td>\n",
       "      <td>0.0</td>\n",
       "      <td>1.0</td>\n",
       "      <td>1.0</td>\n",
       "      <td>1.0</td>\n",
       "      <td>0.0</td>\n",
       "      <td>1.0</td>\n",
       "      <td>1.0</td>\n",
       "      <td>0.0</td>\n",
       "      <td>1.0</td>\n",
       "      <td>1.0</td>\n",
       "      <td>0.0</td>\n",
       "      <td>0.0</td>\n",
       "      <td>0.0</td>\n",
       "      <td>1.0</td>\n",
       "      <td>0.0</td>\n",
       "      <td>1.0</td>\n",
       "      <td>1.0</td>\n",
       "    </tr>\n",
       "    <tr>\n",
       "      <th>1</th>\n",
       "      <td>16.0</td>\n",
       "      <td>27.0</td>\n",
       "      <td>23.0</td>\n",
       "      <td>27.0</td>\n",
       "      <td>24.0</td>\n",
       "      <td>28.0</td>\n",
       "      <td>27.0</td>\n",
       "      <td>26.0</td>\n",
       "      <td>27.0</td>\n",
       "      <td>31.0</td>\n",
       "      <td>18.0</td>\n",
       "      <td>22.0</td>\n",
       "      <td>24.0</td>\n",
       "      <td>19.0</td>\n",
       "      <td>22.0</td>\n",
       "      <td>16.0</td>\n",
       "      <td>19.0</td>\n",
       "      <td>19.0</td>\n",
       "      <td>16.0</td>\n",
       "      <td>19.0</td>\n",
       "      <td>19.0</td>\n",
       "      <td>17.0</td>\n",
       "      <td>20.0</td>\n",
       "      <td>14.0</td>\n",
       "      <td>8.0</td>\n",
       "      <td>9.0</td>\n",
       "      <td>10.0</td>\n",
       "      <td>10.0</td>\n",
       "      <td>11.0</td>\n",
       "      <td>7.0</td>\n",
       "      <td>8.0</td>\n",
       "      <td>7.0</td>\n",
       "      <td>9.0</td>\n",
       "      <td>4.0</td>\n",
       "      <td>5.0</td>\n",
       "      <td>3.0</td>\n",
       "      <td>10.0</td>\n",
       "      <td>7.0</td>\n",
       "      <td>10.0</td>\n",
       "      <td>9.0</td>\n",
       "      <td>4.0</td>\n",
       "      <td>5.0</td>\n",
       "      <td>10.0</td>\n",
       "      <td>4.0</td>\n",
       "      <td>7.0</td>\n",
       "      <td>4.0</td>\n",
       "      <td>8.0</td>\n",
       "      <td>3.0</td>\n",
       "      <td>3.0</td>\n",
       "      <td>3.0</td>\n",
       "      <td>...</td>\n",
       "      <td>5.0</td>\n",
       "      <td>1.0</td>\n",
       "      <td>2.0</td>\n",
       "      <td>3.0</td>\n",
       "      <td>0.0</td>\n",
       "      <td>2.0</td>\n",
       "      <td>0.0</td>\n",
       "      <td>0.0</td>\n",
       "      <td>0.0</td>\n",
       "      <td>2.0</td>\n",
       "      <td>0.0</td>\n",
       "      <td>1.0</td>\n",
       "      <td>3.0</td>\n",
       "      <td>0.0</td>\n",
       "      <td>0.0</td>\n",
       "      <td>0.0</td>\n",
       "      <td>1.0</td>\n",
       "      <td>0.0</td>\n",
       "      <td>0.0</td>\n",
       "      <td>1.0</td>\n",
       "      <td>1.0</td>\n",
       "      <td>0.0</td>\n",
       "      <td>1.0</td>\n",
       "      <td>1.0</td>\n",
       "      <td>1.0</td>\n",
       "      <td>2.0</td>\n",
       "      <td>1.0</td>\n",
       "      <td>0.0</td>\n",
       "      <td>0.0</td>\n",
       "      <td>0.0</td>\n",
       "      <td>0.0</td>\n",
       "      <td>0.0</td>\n",
       "      <td>0.0</td>\n",
       "      <td>2.0</td>\n",
       "      <td>0.0</td>\n",
       "      <td>0.0</td>\n",
       "      <td>0.0</td>\n",
       "      <td>1.0</td>\n",
       "      <td>1.0</td>\n",
       "      <td>1.0</td>\n",
       "      <td>1.0</td>\n",
       "      <td>0.0</td>\n",
       "      <td>0.0</td>\n",
       "      <td>1.0</td>\n",
       "      <td>1.0</td>\n",
       "      <td>1.0</td>\n",
       "      <td>0.0</td>\n",
       "      <td>1.0</td>\n",
       "      <td>0.0</td>\n",
       "      <td>0.0</td>\n",
       "    </tr>\n",
       "  </tbody>\n",
       "</table>\n",
       "<p>2 rows × 104 columns</p>\n",
       "</div>"
      ],
      "text/plain": [
       "Pk           1     2     3     4     5     6     7     8     9     10    11   \\\n",
       "FINAL_5Yrs                                                                     \n",
       "0            1.0   1.0   2.0   1.0   0.0   4.0   0.0   3.0   0.0   0.0   3.0   \n",
       "1           16.0  27.0  23.0  27.0  24.0  28.0  27.0  26.0  27.0  31.0  18.0   \n",
       "\n",
       "Pk           12    13    14    15    16    17    18    19    20    21    22   \\\n",
       "FINAL_5Yrs                                                                     \n",
       "0            2.0   4.0   8.0   6.0   4.0   7.0   4.0  10.0   4.0   7.0   4.0   \n",
       "1           22.0  24.0  19.0  22.0  16.0  19.0  19.0  16.0  19.0  19.0  17.0   \n",
       "\n",
       "Pk           23    24   25   26    27    28    29   30   31   32    33    34   \\\n",
       "FINAL_5Yrs                                                                      \n",
       "0            3.0   4.0  8.0  7.0  11.0   7.0   7.0  6.0  5.0  6.0  11.0  10.0   \n",
       "1           20.0  14.0  8.0  9.0  10.0  10.0  11.0  7.0  8.0  7.0   9.0   4.0   \n",
       "\n",
       "Pk          35    36    37   38    39   40   41   42    43   44   45   46   \\\n",
       "FINAL_5Yrs                                                                   \n",
       "0           8.0  10.0   4.0  8.0   3.0  2.0  4.0  4.0   5.0  5.0  9.0  7.0   \n",
       "1           5.0   3.0  10.0  7.0  10.0  9.0  4.0  5.0  10.0  4.0  7.0  4.0   \n",
       "\n",
       "Pk          47   48   49   50   ...  55   56   57   58   59   60   61   62   \\\n",
       "FINAL_5Yrs                      ...                                           \n",
       "0           5.0  3.0  5.0  4.0  ...  5.0  4.0  0.0  3.0  2.0  1.0  1.0  1.0   \n",
       "1           8.0  3.0  3.0  3.0  ...  5.0  1.0  2.0  3.0  0.0  2.0  0.0  0.0   \n",
       "\n",
       "Pk          64   65   68   69   70   71   73   74   75   76   77   79   82   \\\n",
       "FINAL_5Yrs                                                                    \n",
       "0           1.0  0.0  1.0  0.0  0.0  1.0  1.0  1.0  0.0  1.0  2.0  0.0  0.0   \n",
       "1           0.0  2.0  0.0  1.0  3.0  0.0  0.0  0.0  1.0  0.0  0.0  1.0  1.0   \n",
       "\n",
       "Pk          83   84   85   86   87   88   89   90   97   98   100  103  107  \\\n",
       "FINAL_5Yrs                                                                    \n",
       "0           2.0  0.0  0.0  1.0  0.0  0.0  2.0  1.0  1.0  1.0  1.0  1.0  0.0   \n",
       "1           0.0  1.0  1.0  1.0  2.0  1.0  0.0  0.0  0.0  0.0  0.0  0.0  2.0   \n",
       "\n",
       "Pk          116  117  118  124  133  139  141  150  152  154  156  160  165  \\\n",
       "FINAL_5Yrs                                                                    \n",
       "0           1.0  1.0  1.0  0.0  1.0  1.0  0.0  1.0  1.0  0.0  0.0  0.0  1.0   \n",
       "1           0.0  0.0  0.0  1.0  1.0  1.0  1.0  0.0  0.0  1.0  1.0  1.0  0.0   \n",
       "\n",
       "Pk          166  168  190  \n",
       "FINAL_5Yrs                 \n",
       "0           0.0  1.0  1.0  \n",
       "1           1.0  0.0  0.0  \n",
       "\n",
       "[2 rows x 104 columns]"
      ]
     },
     "execution_count": 32,
     "metadata": {},
     "output_type": "execute_result"
    }
   ],
   "source": [
    "df_chi3 = df.groupby('FINAL_5Yrs')['Pk'].value_counts()\n",
    "df_chi4 = df_chi3.unstack()\n",
    "df_chi4.fillna(0,inplace = True)\n",
    "df_chi4.head()"
   ]
  },
  {
   "cell_type": "code",
   "execution_count": 33,
   "metadata": {
    "scrolled": true
   },
   "outputs": [
    {
     "data": {
      "text/html": [
       "<div>\n",
       "<style scoped>\n",
       "    .dataframe tbody tr th:only-of-type {\n",
       "        vertical-align: middle;\n",
       "    }\n",
       "\n",
       "    .dataframe tbody tr th {\n",
       "        vertical-align: top;\n",
       "    }\n",
       "\n",
       "    .dataframe thead th {\n",
       "        text-align: right;\n",
       "    }\n",
       "</style>\n",
       "<table border=\"1\" class=\"dataframe\">\n",
       "  <thead>\n",
       "    <tr style=\"text-align: right;\">\n",
       "      <th></th>\n",
       "      <th>Top_5</th>\n",
       "    </tr>\n",
       "    <tr>\n",
       "      <th>FINAL_5Yrs</th>\n",
       "      <th></th>\n",
       "    </tr>\n",
       "  </thead>\n",
       "  <tbody>\n",
       "    <tr>\n",
       "      <th>0</th>\n",
       "      <td>5.0</td>\n",
       "    </tr>\n",
       "    <tr>\n",
       "      <th>1</th>\n",
       "      <td>117.0</td>\n",
       "    </tr>\n",
       "  </tbody>\n",
       "</table>\n",
       "</div>"
      ],
      "text/plain": [
       "            Top_5\n",
       "FINAL_5Yrs       \n",
       "0             5.0\n",
       "1           117.0"
      ]
     },
     "execution_count": 33,
     "metadata": {},
     "output_type": "execute_result"
    }
   ],
   "source": [
    "df_chi5 = df_chi4.iloc[0:2,0:5]\n",
    "df_chi5 = pd.DataFrame(df_chi5.sum(axis=1)).rename(columns={0:'Top_5'})\n",
    "df_chi5"
   ]
  },
  {
   "cell_type": "code",
   "execution_count": 34,
   "metadata": {
    "scrolled": true
   },
   "outputs": [
    {
     "data": {
      "text/html": [
       "<div>\n",
       "<style scoped>\n",
       "    .dataframe tbody tr th:only-of-type {\n",
       "        vertical-align: middle;\n",
       "    }\n",
       "\n",
       "    .dataframe tbody tr th {\n",
       "        vertical-align: top;\n",
       "    }\n",
       "\n",
       "    .dataframe thead th {\n",
       "        text-align: right;\n",
       "    }\n",
       "</style>\n",
       "<table border=\"1\" class=\"dataframe\">\n",
       "  <thead>\n",
       "    <tr style=\"text-align: right;\">\n",
       "      <th></th>\n",
       "      <th>Lottery_6_14</th>\n",
       "    </tr>\n",
       "    <tr>\n",
       "      <th>FINAL_5Yrs</th>\n",
       "      <th></th>\n",
       "    </tr>\n",
       "  </thead>\n",
       "  <tbody>\n",
       "    <tr>\n",
       "      <th>0</th>\n",
       "      <td>24.0</td>\n",
       "    </tr>\n",
       "    <tr>\n",
       "      <th>1</th>\n",
       "      <td>222.0</td>\n",
       "    </tr>\n",
       "  </tbody>\n",
       "</table>\n",
       "</div>"
      ],
      "text/plain": [
       "            Lottery_6_14\n",
       "FINAL_5Yrs              \n",
       "0                   24.0\n",
       "1                  222.0"
      ]
     },
     "execution_count": 34,
     "metadata": {},
     "output_type": "execute_result"
    }
   ],
   "source": [
    "df_chi6 = df_chi4.iloc[0:2,5:14]\n",
    "df_chi6 = pd.DataFrame(df_chi6.sum(axis=1)).rename(columns={0:'Lottery_6_14'})\n",
    "df_chi6"
   ]
  },
  {
   "cell_type": "code",
   "execution_count": 35,
   "metadata": {
    "scrolled": true
   },
   "outputs": [
    {
     "data": {
      "text/html": [
       "<div>\n",
       "<style scoped>\n",
       "    .dataframe tbody tr th:only-of-type {\n",
       "        vertical-align: middle;\n",
       "    }\n",
       "\n",
       "    .dataframe tbody tr th {\n",
       "        vertical-align: top;\n",
       "    }\n",
       "\n",
       "    .dataframe thead th {\n",
       "        text-align: right;\n",
       "    }\n",
       "</style>\n",
       "<table border=\"1\" class=\"dataframe\">\n",
       "  <thead>\n",
       "    <tr style=\"text-align: right;\">\n",
       "      <th></th>\n",
       "      <th>1st_Rd_15-30</th>\n",
       "    </tr>\n",
       "    <tr>\n",
       "      <th>FINAL_5Yrs</th>\n",
       "      <th></th>\n",
       "    </tr>\n",
       "  </thead>\n",
       "  <tbody>\n",
       "    <tr>\n",
       "      <th>0</th>\n",
       "      <td>99.0</td>\n",
       "    </tr>\n",
       "    <tr>\n",
       "      <th>1</th>\n",
       "      <td>236.0</td>\n",
       "    </tr>\n",
       "  </tbody>\n",
       "</table>\n",
       "</div>"
      ],
      "text/plain": [
       "            1st_Rd_15-30\n",
       "FINAL_5Yrs              \n",
       "0                   99.0\n",
       "1                  236.0"
      ]
     },
     "execution_count": 35,
     "metadata": {},
     "output_type": "execute_result"
    }
   ],
   "source": [
    "df_chi7 = df_chi4.iloc[0:2,14:30]\n",
    "df_chi7 = pd.DataFrame(df_chi7.sum(axis=1)).rename(columns={0:'1st_Rd_15-30'})\n",
    "df_chi7"
   ]
  },
  {
   "cell_type": "code",
   "execution_count": 36,
   "metadata": {},
   "outputs": [
    {
     "data": {
      "text/html": [
       "<div>\n",
       "<style scoped>\n",
       "    .dataframe tbody tr th:only-of-type {\n",
       "        vertical-align: middle;\n",
       "    }\n",
       "\n",
       "    .dataframe tbody tr th {\n",
       "        vertical-align: top;\n",
       "    }\n",
       "\n",
       "    .dataframe thead th {\n",
       "        text-align: right;\n",
       "    }\n",
       "</style>\n",
       "<table border=\"1\" class=\"dataframe\">\n",
       "  <thead>\n",
       "    <tr style=\"text-align: right;\">\n",
       "      <th></th>\n",
       "      <th>2nd_rd</th>\n",
       "    </tr>\n",
       "    <tr>\n",
       "      <th>FINAL_5Yrs</th>\n",
       "      <th></th>\n",
       "    </tr>\n",
       "  </thead>\n",
       "  <tbody>\n",
       "    <tr>\n",
       "      <th>0</th>\n",
       "      <td>150.0</td>\n",
       "    </tr>\n",
       "    <tr>\n",
       "      <th>1</th>\n",
       "      <td>150.0</td>\n",
       "    </tr>\n",
       "  </tbody>\n",
       "</table>\n",
       "</div>"
      ],
      "text/plain": [
       "            2nd_rd\n",
       "FINAL_5Yrs        \n",
       "0            150.0\n",
       "1            150.0"
      ]
     },
     "execution_count": 36,
     "metadata": {},
     "output_type": "execute_result"
    }
   ],
   "source": [
    "df_chi8 = df_chi4.iloc[0:2,30:60]\n",
    "df_chi8 = pd.DataFrame(df_chi8.sum(axis=1)).rename(columns={0:'2nd_rd'})\n",
    "df_chi8"
   ]
  },
  {
   "cell_type": "code",
   "execution_count": 37,
   "metadata": {
    "scrolled": true
   },
   "outputs": [
    {
     "data": {
      "text/html": [
       "<div>\n",
       "<style scoped>\n",
       "    .dataframe tbody tr th:only-of-type {\n",
       "        vertical-align: middle;\n",
       "    }\n",
       "\n",
       "    .dataframe tbody tr th {\n",
       "        vertical-align: top;\n",
       "    }\n",
       "\n",
       "    .dataframe thead th {\n",
       "        text-align: right;\n",
       "    }\n",
       "</style>\n",
       "<table border=\"1\" class=\"dataframe\">\n",
       "  <thead>\n",
       "    <tr style=\"text-align: right;\">\n",
       "      <th></th>\n",
       "      <th>Undrafted</th>\n",
       "    </tr>\n",
       "    <tr>\n",
       "      <th>FINAL_5Yrs</th>\n",
       "      <th></th>\n",
       "    </tr>\n",
       "  </thead>\n",
       "  <tbody>\n",
       "    <tr>\n",
       "      <th>0</th>\n",
       "      <td>30.0</td>\n",
       "    </tr>\n",
       "    <tr>\n",
       "      <th>1</th>\n",
       "      <td>25.0</td>\n",
       "    </tr>\n",
       "  </tbody>\n",
       "</table>\n",
       "</div>"
      ],
      "text/plain": [
       "            Undrafted\n",
       "FINAL_5Yrs           \n",
       "0                30.0\n",
       "1                25.0"
      ]
     },
     "execution_count": 37,
     "metadata": {},
     "output_type": "execute_result"
    }
   ],
   "source": [
    "df_chi9 = df_chi4.iloc[0:2,60:]\n",
    "df_chi9 = pd.DataFrame(df_chi9.sum(axis=1)).rename(columns={0:'Undrafted'})\n",
    "df_chi9"
   ]
  },
  {
   "cell_type": "code",
   "execution_count": 38,
   "metadata": {
    "scrolled": true
   },
   "outputs": [
    {
     "data": {
      "text/html": [
       "<div>\n",
       "<style scoped>\n",
       "    .dataframe tbody tr th:only-of-type {\n",
       "        vertical-align: middle;\n",
       "    }\n",
       "\n",
       "    .dataframe tbody tr th {\n",
       "        vertical-align: top;\n",
       "    }\n",
       "\n",
       "    .dataframe thead th {\n",
       "        text-align: right;\n",
       "    }\n",
       "</style>\n",
       "<table border=\"1\" class=\"dataframe\">\n",
       "  <thead>\n",
       "    <tr style=\"text-align: right;\">\n",
       "      <th></th>\n",
       "      <th>TOP_5_Pick</th>\n",
       "      <th>Lottery_Pick</th>\n",
       "      <th>1st_Rd_Pick</th>\n",
       "      <th>2nd_Rd_Pick</th>\n",
       "      <th>Undrafted_Pick</th>\n",
       "    </tr>\n",
       "    <tr>\n",
       "      <th>FINAL_5Yrs</th>\n",
       "      <th></th>\n",
       "      <th></th>\n",
       "      <th></th>\n",
       "      <th></th>\n",
       "      <th></th>\n",
       "    </tr>\n",
       "  </thead>\n",
       "  <tbody>\n",
       "    <tr>\n",
       "      <th>1</th>\n",
       "      <td>95.901639</td>\n",
       "      <td>90.243902</td>\n",
       "      <td>70.447761</td>\n",
       "      <td>50.0</td>\n",
       "      <td>45.454545</td>\n",
       "    </tr>\n",
       "  </tbody>\n",
       "</table>\n",
       "</div>"
      ],
      "text/plain": [
       "            TOP_5_Pick  Lottery_Pick  1st_Rd_Pick  2nd_Rd_Pick  Undrafted_Pick\n",
       "FINAL_5Yrs                                                                    \n",
       "1            95.901639     90.243902    70.447761         50.0       45.454545"
      ]
     },
     "execution_count": 38,
     "metadata": {},
     "output_type": "execute_result"
    }
   ],
   "source": [
    "frames = [df_chi5,df_chi6,df_chi7,df_chi8,df_chi9]\n",
    "df_chi10 = pd.concat(frames,axis=1)\n",
    "df_chi10['TOP_5_Pick'] = 117/122*100\n",
    "df_chi10['Lottery_Pick'] = 222/246*100\n",
    "df_chi10['1st_Rd_Pick'] = 236/335*100\n",
    "df_chi10['2nd_Rd_Pick'] = 150/300*100\n",
    "df_chi10['Undrafted_Pick'] = 25/55*100\n",
    "df_chi11 = df_chi10.iloc[1:,5:]\n",
    "df_chi11"
   ]
  },
  {
   "cell_type": "code",
   "execution_count": 124,
   "metadata": {},
   "outputs": [
    {
     "data": {
      "image/png": "[encoded data removed]",
      "text/plain": [
       "<Figure size 1080x720 with 1 Axes>"
      ]
     },
     "metadata": {},
     "output_type": "display_data"
    }
   ],
   "source": [
    "fig,ax=plt.subplots(figsize=(15,10))\n",
    "sns.set(style='darkgrid')\n",
    "ax.set_xlabel('% Rookies that played over 5 Years',fontweight='bold', fontsize=(15))\n",
    "plt.xticks(rotation=-45)\n",
    "ax.set_ylabel('Draft Pick',fontweight='bold', fontsize=(15))\n",
    "ax.set_title('Success of Rookies Based on Draft Pick', fontweight='bold', fontsize=(20))\n",
    "\n",
    "ax =sns.barplot(data=df_chi11,orient='h')\n",
    "\n",
    "# fig.savefig('success_draft_pick.png',bbox_inches='tight');"
   ]
  },
  {
   "cell_type": "markdown",
   "metadata": {},
   "source": [
    "We see above that there is a negative relationship between draft pick used and the average length of a rookies career. We see that the earlier the pick the more likely a player is to having a longer than average career."
   ]
  },
  {
   "cell_type": "markdown",
   "metadata": {},
   "source": [
    "## Hypothesis Testing"
   ]
  },
  {
   "cell_type": "markdown",
   "metadata": {},
   "source": [
    "Is there a relationship between the team selecting a player and if they will have a longer than average career?"
   ]
  },
  {
   "cell_type": "markdown",
   "metadata": {},
   "source": [
    "### #1 Chi Square Test"
   ]
  },
  {
   "cell_type": "markdown",
   "metadata": {},
   "source": [
    "Hypothesis Testing:\n",
    "\n",
    "Null: There is no relationship between the Team and whether or not players last 5 years in the NBA\n",
    "\n",
    "Alternative: There is a relationship between the Team and whether or not players last 5 years in the NBA"
   ]
  },
  {
   "cell_type": "code",
   "execution_count": 40,
   "metadata": {},
   "outputs": [
    {
     "data": {
      "text/html": [
       "<div>\n",
       "<style scoped>\n",
       "    .dataframe tbody tr th:only-of-type {\n",
       "        vertical-align: middle;\n",
       "    }\n",
       "\n",
       "    .dataframe tbody tr th {\n",
       "        vertical-align: top;\n",
       "    }\n",
       "\n",
       "    .dataframe thead th {\n",
       "        text-align: right;\n",
       "    }\n",
       "</style>\n",
       "<table border=\"1\" class=\"dataframe\">\n",
       "  <thead>\n",
       "    <tr style=\"text-align: right;\">\n",
       "      <th>Team</th>\n",
       "      <th>ATL</th>\n",
       "      <th>BOS</th>\n",
       "      <th>CHA</th>\n",
       "      <th>CHI</th>\n",
       "      <th>CLE</th>\n",
       "      <th>DAL</th>\n",
       "      <th>DEN</th>\n",
       "      <th>DET</th>\n",
       "      <th>GSW</th>\n",
       "      <th>HOU</th>\n",
       "      <th>IND</th>\n",
       "      <th>LAC</th>\n",
       "      <th>LAL</th>\n",
       "      <th>MEM</th>\n",
       "      <th>MIA</th>\n",
       "      <th>MIL</th>\n",
       "      <th>MIN</th>\n",
       "      <th>NJN</th>\n",
       "      <th>NOH</th>\n",
       "      <th>NYK</th>\n",
       "      <th>OKC</th>\n",
       "      <th>ORL</th>\n",
       "      <th>PHI</th>\n",
       "      <th>PHO</th>\n",
       "      <th>POR</th>\n",
       "      <th>SAC</th>\n",
       "      <th>SAS</th>\n",
       "      <th>TOR</th>\n",
       "      <th>UTA</th>\n",
       "      <th>WAS</th>\n",
       "    </tr>\n",
       "    <tr>\n",
       "      <th>FINAL_5Yrs</th>\n",
       "      <th></th>\n",
       "      <th></th>\n",
       "      <th></th>\n",
       "      <th></th>\n",
       "      <th></th>\n",
       "      <th></th>\n",
       "      <th></th>\n",
       "      <th></th>\n",
       "      <th></th>\n",
       "      <th></th>\n",
       "      <th></th>\n",
       "      <th></th>\n",
       "      <th></th>\n",
       "      <th></th>\n",
       "      <th></th>\n",
       "      <th></th>\n",
       "      <th></th>\n",
       "      <th></th>\n",
       "      <th></th>\n",
       "      <th></th>\n",
       "      <th></th>\n",
       "      <th></th>\n",
       "      <th></th>\n",
       "      <th></th>\n",
       "      <th></th>\n",
       "      <th></th>\n",
       "      <th></th>\n",
       "      <th></th>\n",
       "      <th></th>\n",
       "      <th></th>\n",
       "    </tr>\n",
       "  </thead>\n",
       "  <tbody>\n",
       "    <tr>\n",
       "      <th>0</th>\n",
       "      <td>15</td>\n",
       "      <td>14</td>\n",
       "      <td>4</td>\n",
       "      <td>22</td>\n",
       "      <td>6</td>\n",
       "      <td>12</td>\n",
       "      <td>11</td>\n",
       "      <td>6</td>\n",
       "      <td>15</td>\n",
       "      <td>7</td>\n",
       "      <td>13</td>\n",
       "      <td>10</td>\n",
       "      <td>10</td>\n",
       "      <td>8</td>\n",
       "      <td>10</td>\n",
       "      <td>11</td>\n",
       "      <td>11</td>\n",
       "      <td>14</td>\n",
       "      <td>7</td>\n",
       "      <td>8</td>\n",
       "      <td>8</td>\n",
       "      <td>6</td>\n",
       "      <td>9</td>\n",
       "      <td>10</td>\n",
       "      <td>15</td>\n",
       "      <td>13</td>\n",
       "      <td>8</td>\n",
       "      <td>1</td>\n",
       "      <td>14</td>\n",
       "      <td>10</td>\n",
       "    </tr>\n",
       "    <tr>\n",
       "      <th>1</th>\n",
       "      <td>25</td>\n",
       "      <td>23</td>\n",
       "      <td>10</td>\n",
       "      <td>40</td>\n",
       "      <td>29</td>\n",
       "      <td>28</td>\n",
       "      <td>21</td>\n",
       "      <td>29</td>\n",
       "      <td>31</td>\n",
       "      <td>25</td>\n",
       "      <td>23</td>\n",
       "      <td>34</td>\n",
       "      <td>21</td>\n",
       "      <td>15</td>\n",
       "      <td>14</td>\n",
       "      <td>27</td>\n",
       "      <td>23</td>\n",
       "      <td>26</td>\n",
       "      <td>24</td>\n",
       "      <td>26</td>\n",
       "      <td>28</td>\n",
       "      <td>17</td>\n",
       "      <td>26</td>\n",
       "      <td>33</td>\n",
       "      <td>26</td>\n",
       "      <td>33</td>\n",
       "      <td>17</td>\n",
       "      <td>13</td>\n",
       "      <td>30</td>\n",
       "      <td>33</td>\n",
       "    </tr>\n",
       "  </tbody>\n",
       "</table>\n",
       "</div>"
      ],
      "text/plain": [
       "Team        ATL  BOS  CHA  CHI  CLE  DAL  DEN  DET  GSW  HOU  IND  LAC  LAL  \\\n",
       "FINAL_5Yrs                                                                    \n",
       "0            15   14    4   22    6   12   11    6   15    7   13   10   10   \n",
       "1            25   23   10   40   29   28   21   29   31   25   23   34   21   \n",
       "\n",
       "Team        MEM  MIA  MIL  MIN  NJN  NOH  NYK  OKC  ORL  PHI  PHO  POR  SAC  \\\n",
       "FINAL_5Yrs                                                                    \n",
       "0             8   10   11   11   14    7    8    8    6    9   10   15   13   \n",
       "1            15   14   27   23   26   24   26   28   17   26   33   26   33   \n",
       "\n",
       "Team        SAS  TOR  UTA  WAS  \n",
       "FINAL_5Yrs                      \n",
       "0             8    1   14   10  \n",
       "1            17   13   30   33  "
      ]
     },
     "execution_count": 40,
     "metadata": {},
     "output_type": "execute_result"
    }
   ],
   "source": [
    "df_chi = df.groupby('FINAL_5Yrs')['Team'].value_counts()\n",
    "df_chi2 = df_chi.unstack()\n",
    "df_chi2.fillna(0,inplace = True)\n",
    "df_chi2.head()"
   ]
  },
  {
   "cell_type": "code",
   "execution_count": 41,
   "metadata": {},
   "outputs": [
    {
     "name": "stdout",
     "output_type": "stream",
     "text": [
      "[[11.64461248 10.77126654  4.07561437 18.04914934 10.18903592 11.64461248\n",
      "   9.31568998 10.18903592 13.39130435  9.31568998 10.48015123 12.80907372\n",
      "   9.02457467  6.69565217  6.98676749 11.06238185  9.8979206  11.64461248\n",
      "   9.02457467  9.8979206  10.48015123  6.69565217 10.18903592 12.51795841\n",
      "  11.93572779 13.39130435  7.2778828   4.07561437 12.80907372 12.51795841]\n",
      " [28.35538752 26.22873346  9.92438563 43.95085066 24.81096408 28.35538752\n",
      "  22.68431002 24.81096408 32.60869565 22.68431002 25.51984877 31.19092628\n",
      "  21.97542533 16.30434783 17.01323251 26.93761815 24.1020794  28.35538752\n",
      "  21.97542533 24.1020794  25.51984877 16.30434783 24.81096408 30.48204159\n",
      "  29.06427221 32.60869565 17.7221172   9.92438563 31.19092628 30.48204159]]\n",
      "probability=0.950, critical=42.557, stat=23.615)\n",
      "Independent (fail to reject H0)\n",
      "signigicance=0.050, p=0.748,\n",
      "Independent (fail to reject)\n"
     ]
    }
   ],
   "source": [
    "# contingency table\n",
    "stat, p, dof, expected = chi2_contingency(df_chi2)\n",
    "print(expected)\n",
    "\n",
    "#interpret test-statistic\n",
    "prob = 0.95\n",
    "critical = chi2.ppf(prob, dof)\n",
    "print('probability=%.3f, critical=%.3f, stat=%.3f)' % (prob, critical, stat))\n",
    "if abs(stat) >= critical:\n",
    "    print('Dependent (reject H0)')\n",
    "else:\n",
    "    print('Independent (fail to reject H0)')\n",
    "    \n",
    "#interpret p-value\n",
    "alpha= 1-prob\n",
    "print('signigicance=%.3f, p=%.3f,' % (alpha, p))\n",
    "if p <= alpha:\n",
    "    print('Dependent (reject H0)')\n",
    "else: \n",
    "    print('Independent (fail to reject)')"
   ]
  },
  {
   "cell_type": "markdown",
   "metadata": {},
   "source": [
    "We FAIL to reject the null hypothesis because chi square statistic (23.615) is less than the critical value (42.557)"
   ]
  },
  {
   "cell_type": "code",
   "execution_count": 126,
   "metadata": {
    "scrolled": true
   },
   "outputs": [
    {
     "data": {
      "image/png": "[encoded data removed]",
      "text/plain": [
       "<Figure size 1080x720 with 1 Axes>"
      ]
     },
     "metadata": {},
     "output_type": "display_data"
    }
   ],
   "source": [
    "df_draft = df[df['FINAL_5Yrs']==1]\n",
    "\n",
    "fig,ax=plt.subplots(figsize=(15,10))\n",
    "sns.set(style='darkgrid')\n",
    "ax.set_xlabel('Draft Year',fontweight='bold', fontsize=(15))\n",
    "plt.xticks(rotation=-45)\n",
    "ax.set_ylabel('# of Veterans over 5 Years',fontweight='bold', fontsize=(15))\n",
    "ax.set_title('Players with Careers 5 years or More by Draft Year', fontweight='bold', fontsize=(20))\n",
    "\n",
    "ax =sns.countplot(df_draft['Team'],data=df_draft)\n",
    "\n",
    "# fig.savefig('count_plot_team.png',bbox_inches='tight');"
   ]
  },
  {
   "cell_type": "markdown",
   "metadata": {},
   "source": [
    "We see from Chi Square test and the histogram above that there isn't a relationship between team and future career length."
   ]
  },
  {
   "cell_type": "markdown",
   "metadata": {},
   "source": [
    "### #2 Two Sample T Test"
   ]
  },
  {
   "cell_type": "markdown",
   "metadata": {},
   "source": [
    "Is there a relationship between average minutes per game and having a career longer than average?\n",
    "\n",
    "Hypothesis Testing:\n",
    "\n",
    "Null: No statistical difference between minutes and whether or not players last 5 years in the NBA  u1 = u2\n",
    "\n",
    "Alternative: There is a statisitcal difference between minutes and whether or not players last 5 years in the NBA u1 =/ u2"
   ]
  },
  {
   "cell_type": "code",
   "execution_count": 43,
   "metadata": {
    "scrolled": false
   },
   "outputs": [
    {
     "data": {
      "text/plain": [
       "1    750\n",
       "0    308\n",
       "Name: FINAL_5Yrs, dtype: int64"
      ]
     },
     "execution_count": 43,
     "metadata": {},
     "output_type": "execute_result"
    }
   ],
   "source": [
    "df['FINAL_5Yrs'].value_counts()"
   ]
  },
  {
   "cell_type": "code",
   "execution_count": 44,
   "metadata": {},
   "outputs": [],
   "source": [
    "notplay = df[df['FINAL_5Yrs']==0]\n",
    "yesplay = df[df['FINAL_5Yrs']==1]"
   ]
  },
  {
   "cell_type": "code",
   "execution_count": 45,
   "metadata": {
    "scrolled": true
   },
   "outputs": [
    {
     "data": {
      "text/plain": [
       "count    308.000000\n",
       "mean      13.214286\n",
       "std        5.588896\n",
       "min        3.100000\n",
       "25%        9.000000\n",
       "50%       12.100000\n",
       "75%       16.100000\n",
       "max       33.500000\n",
       "Name: MIN, dtype: float64"
      ]
     },
     "execution_count": 45,
     "metadata": {},
     "output_type": "execute_result"
    }
   ],
   "source": [
    "notplay['MIN'].describe()"
   ]
  },
  {
   "cell_type": "code",
   "execution_count": 46,
   "metadata": {},
   "outputs": [
    {
     "data": {
      "text/plain": [
       "count    750.000000\n",
       "mean      19.961467\n",
       "std        8.470399\n",
       "min        4.500000\n",
       "25%       13.100000\n",
       "50%       19.050000\n",
       "75%       26.300000\n",
       "max       40.900000\n",
       "Name: MIN, dtype: float64"
      ]
     },
     "execution_count": 46,
     "metadata": {},
     "output_type": "execute_result"
    }
   ],
   "source": [
    "yesplay['MIN'].describe()"
   ]
  },
  {
   "cell_type": "code",
   "execution_count": 47,
   "metadata": {
    "scrolled": true
   },
   "outputs": [
    {
     "data": {
      "text/plain": [
       "Ttest_indResult(statistic=-15.198576450908643, pvalue=2.516826398434337e-46)"
      ]
     },
     "execution_count": 47,
     "metadata": {},
     "output_type": "execute_result"
    }
   ],
   "source": [
    "stats.ttest_ind(notplay['MIN'],yesplay['MIN'], equal_var = False)"
   ]
  },
  {
   "cell_type": "markdown",
   "metadata": {},
   "source": [
    "We CAN reject the null hypothesis because our pvalue (2.51e-46) is less than 0.05 (alpha set at .05)\n",
    "\n",
    "What we see from this T-test is the more minutes a rookie gets the more likely he is to play five or more seasons."
   ]
  },
  {
   "cell_type": "markdown",
   "metadata": {},
   "source": [
    "### #3 One way ANOVA"
   ]
  },
  {
   "cell_type": "markdown",
   "metadata": {},
   "source": [
    "We have seen that there isn't a relationship between a team and career length but there is a relationship between minutes and career length. To bring this full circle, is there a relationship between minutes and the team a rookie is on?"
   ]
  },
  {
   "cell_type": "markdown",
   "metadata": {},
   "source": [
    "Hypothesis Testing:\n",
    "\n",
    "Null: No statistical difference between minutes played and Teams\n",
    "\n",
    "Alternative: There is a statisitcal difference between minutes played and Teams"
   ]
  },
  {
   "cell_type": "code",
   "execution_count": 48,
   "metadata": {},
   "outputs": [
    {
     "data": {
      "text/plain": [
       "F_onewayResult(statistic=2.168178018732155, pvalue=0.0003642580578649719)"
      ]
     },
     "execution_count": 48,
     "metadata": {},
     "output_type": "execute_result"
    }
   ],
   "source": [
    "stats.f_oneway(df['MIN'][df['Team'] == 'CHI'],\n",
    "               df['MIN'][df['Team'] == 'GSW'],\n",
    "               df['MIN'][df['Team'] == 'SAC'],\n",
    "               df['MIN'][df['Team'] == 'LAC'],\n",
    "               df['MIN'][df['Team'] == 'UTA'],\n",
    "               df['MIN'][df['Team'] == 'PHO'],\n",
    "               df['MIN'][df['Team'] == 'WAS'],\n",
    "               df['MIN'][df['Team'] == 'POR'],\n",
    "               df['MIN'][df['Team'] == 'NJN'],\n",
    "               df['MIN'][df['Team'] == 'DAL'],\n",
    "               df['MIN'][df['Team'] == 'ATL'],\n",
    "               df['MIN'][df['Team'] == 'MIL'],\n",
    "               df['MIN'][df['Team'] == 'BOS'],\n",
    "               df['MIN'][df['Team'] == 'OKC'],\n",
    "               df['MIN'][df['Team'] == 'IND'],\n",
    "               df['MIN'][df['Team'] == 'PHI'],\n",
    "               df['MIN'][df['Team'] == 'DET'],\n",
    "               df['MIN'][df['Team'] == 'CLE'],\n",
    "               df['MIN'][df['Team'] == 'NYK'],\n",
    "               df['MIN'][df['Team'] == 'MIN'],\n",
    "               df['MIN'][df['Team'] == 'DEN'],\n",
    "               df['MIN'][df['Team'] == 'HOU'],\n",
    "               df['MIN'][df['Team'] == 'NOH'],\n",
    "               df['MIN'][df['Team'] == 'LAL'],\n",
    "               df['MIN'][df['Team'] == 'SAS'],\n",
    "               df['MIN'][df['Team'] == 'MIA'],\n",
    "               df['MIN'][df['Team'] == 'MEM'],\n",
    "               df['MIN'][df['Team'] == 'ORL'],\n",
    "               df['MIN'][df['Team'] == 'TOR'],\n",
    "               df['MIN'][df['Team'] == 'CHA'])\n",
    "               "
   ]
  },
  {
   "cell_type": "markdown",
   "metadata": {},
   "source": [
    "We CAN reject the null hypothesis because our pvalue is less than 0.05 (alpha set at .05).\n",
    "\n",
    "We see from the ANOVA test above that there actually is a relationship between the team a rookie is on and the average amount of minutes a rookie gets per game. This is interesting, as we know more minutes usually indicates a longer than average career."
   ]
  },
  {
   "cell_type": "code",
   "execution_count": 49,
   "metadata": {},
   "outputs": [],
   "source": [
    "min_order = df.groupby('Team')['MIN'].median().sort_values(ascending = False).index"
   ]
  },
  {
   "cell_type": "code",
   "execution_count": 137,
   "metadata": {
    "scrolled": true
   },
   "outputs": [
    {
     "data": {
      "image/png": "[encoded data removed]",
      "text/plain": [
       "<Figure size 1440x432 with 1 Axes>"
      ]
     },
     "metadata": {},
     "output_type": "display_data"
    }
   ],
   "source": [
    "plt.figure(figsize=(20,6))\n",
    "plt.title('Average Minutes a Rookie Players Per Game by Team')\n",
    "sns.boxplot(x='Team',y='MIN',data=df,color='b', order=min_order);\n",
    "\n",
    "# plt.savefig('avg_min_team_boxplot.png',bbox_inches='tight');"
   ]
  },
  {
   "cell_type": "markdown",
   "metadata": {},
   "source": [
    "The chart above breaks down the teams that give more minutes to rookies."
   ]
  },
  {
   "cell_type": "markdown",
   "metadata": {},
   "source": [
    "Do rookies who are picked earlier in the draft get more minutes on average?"
   ]
  },
  {
   "cell_type": "code",
   "execution_count": 51,
   "metadata": {},
   "outputs": [],
   "source": [
    "min_order2 = df.groupby('Pk')['MIN'].median().sort_values(ascending = False).index"
   ]
  },
  {
   "cell_type": "code",
   "execution_count": 134,
   "metadata": {},
   "outputs": [
    {
     "data": {
      "image/png": "[encoded data removed]",
      "text/plain": [
       "<Figure size 1800x720 with 1 Axes>"
      ]
     },
     "metadata": {},
     "output_type": "display_data"
    }
   ],
   "source": [
    "plt.figure(figsize=(25,10))\n",
    "plt.title('Average Minutes a Rookie Players Per Game by Pick')\n",
    "sns.boxplot(x='Pk',y='MIN',data=df,color='b', order=min_order2);\n",
    "\n",
    "# plt.savefig('avg_min_pick_boxplot.png',bbox_inches='tight');"
   ]
  },
  {
   "cell_type": "markdown",
   "metadata": {},
   "source": [
    "We see quite clearly that the later you are picked in the draft the less minutes you are likely to receive."
   ]
  },
  {
   "cell_type": "markdown",
   "metadata": {},
   "source": [
    "## Feature Selection & More Feature Engineering"
   ]
  },
  {
   "cell_type": "code",
   "execution_count": 53,
   "metadata": {},
   "outputs": [],
   "source": [
    "# First data frame is used for Log Reg & Knn to determine which features to use\n",
    "df1= df.drop(columns=[\"College\",'Name','TARGET_5Yrs','Draft_Yr','FGA','AST_TOV'])#'Team',\"3P%\", 'FT%', '3PA_Shot', 'AST_TOV', 'attend_college', 'conference'\n"
   ]
  },
  {
   "cell_type": "code",
   "execution_count": 54,
   "metadata": {},
   "outputs": [],
   "source": [
    "# Team column broken down to individual teams to use as a categorical variable\n",
    "df1 = pd.get_dummies(df1, columns=[\"Team\"], drop_first=True)"
   ]
  },
  {
   "cell_type": "code",
   "execution_count": 55,
   "metadata": {},
   "outputs": [],
   "source": [
    "# Second data fram is used for decision and random forest tree because the extra features can help with modeling\n",
    "df2= df.drop(columns=[\"College\",'Name','TARGET_5Yrs','Draft_Yr'])#'Team',\"3P%\", 'FT%', '3PA_Shot', 'AST_TOV', 'attend_college', 'conference'"
   ]
  },
  {
   "cell_type": "code",
   "execution_count": 56,
   "metadata": {},
   "outputs": [],
   "source": [
    "df2 = pd.get_dummies(df2, columns=[\"Team\"], drop_first=True)"
   ]
  },
  {
   "cell_type": "code",
   "execution_count": 57,
   "metadata": {},
   "outputs": [
    {
     "data": {
      "text/plain": [
       "FINAL_5Yrs        1.000000\n",
       "TARGET_5Yrs       0.899888\n",
       "GP                0.402354\n",
       "MIN               0.368323\n",
       "PTS               0.347726\n",
       "FGM               0.346181\n",
       "DREB              0.344193\n",
       "REB               0.334666\n",
       "FGA               0.322110\n",
       "FTM               0.308246\n",
       "FTA               0.302987\n",
       "TOV               0.285795\n",
       "OREB              0.280410\n",
       "PPP               0.276911\n",
       "STL               0.274750\n",
       "True_FG%          0.256613\n",
       "BLK               0.237380\n",
       "FG%               0.210143\n",
       "AST               0.199273\n",
       "FT%               0.146148\n",
       "3P Made           0.121758\n",
       "3PA               0.110435\n",
       "3P%               0.056157\n",
       "Draft_Yr          0.055950\n",
       "FTR               0.054166\n",
       "AST_TOV           0.037992\n",
       "conference        0.035724\n",
       "3PA_Shot         -0.000026\n",
       "Hasst%           -0.009827\n",
       "attend_college   -0.078804\n",
       "TOV%             -0.089345\n",
       "Pk               -0.320241\n",
       "Name: FINAL_5Yrs, dtype: float64"
      ]
     },
     "execution_count": 57,
     "metadata": {},
     "output_type": "execute_result"
    }
   ],
   "source": [
    "df.corr()['FINAL_5Yrs'].sort_values(ascending = False)"
   ]
  },
  {
   "cell_type": "code",
   "execution_count": 140,
   "metadata": {},
   "outputs": [
    {
     "data": {
      "image/png": "[encoded data removed]",
      "text/plain": [
       "<Figure size 792x648 with 2 Axes>"
      ]
     },
     "metadata": {},
     "output_type": "display_data"
    }
   ],
   "source": [
    "sns.set(style=\"white\")\n",
    "corr = df2.corr() \n",
    "\n",
    "mask = np.zeros_like(corr, dtype=np.bool)\n",
    "mask[np.triu_indices_from(mask)] = True\n",
    "\n",
    "f, ax = plt.subplots(figsize=(11, 9))\n",
    "\n",
    "cmap = sns.diverging_palette(220, 10, as_cmap=True)\n",
    "\n",
    "sns.heatmap(corr, mask=mask, cmap=cmap, vmax=.75, center=0,\n",
    "            square=True, linewidths=.5, cbar_kws={\"shrink\": .5});\n",
    "\n",
    "# f.savefig('corr_heatmap.png',bbox_inches='tight');"
   ]
  },
  {
   "cell_type": "markdown",
   "metadata": {},
   "source": [
    "## Modeling"
   ]
  },
  {
   "cell_type": "markdown",
   "metadata": {},
   "source": [
    "### Train Test Split"
   ]
  },
  {
   "cell_type": "code",
   "execution_count": 59,
   "metadata": {},
   "outputs": [],
   "source": [
    "# Remove target variable to begin modeling\n",
    "target = df1['FINAL_5Yrs']\n",
    "features = df1.drop(['FINAL_5Yrs'], axis=1)"
   ]
  },
  {
   "cell_type": "code",
   "execution_count": 60,
   "metadata": {},
   "outputs": [],
   "source": [
    "target1 = df2['FINAL_5Yrs']\n",
    "features1 = df2.drop(['FINAL_5Yrs'], axis=1)"
   ]
  },
  {
   "cell_type": "markdown",
   "metadata": {},
   "source": [
    "### Logestic Regression Modeling"
   ]
  },
  {
   "cell_type": "code",
   "execution_count": 61,
   "metadata": {},
   "outputs": [
    {
     "name": "stdout",
     "output_type": "stream",
     "text": [
      "Test F1 score:  0.8464163822525598\n",
      "Test Accuracy score:  0.7877358490566038\n"
     ]
    },
    {
     "name": "stderr",
     "output_type": "stream",
     "text": [
      "/Users/Dan/opt/anaconda3/lib/python3.7/site-packages/sklearn/linear_model/logistic.py:433: FutureWarning: Default solver will be changed to 'lbfgs' in 0.22. Specify a solver to silence this warning.\n",
      "  FutureWarning)\n"
     ]
    }
   ],
   "source": [
    "X_train, X_test, y_train, y_test = train_test_split(features, target, random_state=25,test_size=0.20)\n",
    "\n",
    "log = LogisticRegression(class_weight='balanced')\n",
    "log.fit(X_train, y_train)\n",
    "log_preds = log.predict(X_test)\n",
    "\n",
    "log_f1 = metrics.f1_score(y_test, log_preds)\n",
    "\n",
    "log_acc = metrics.accuracy_score(y_test, log_preds)\n",
    "\n",
    "print('Test F1 score: ', log_f1)\n",
    "print('Test Accuracy score: ', log_acc)"
   ]
  },
  {
   "cell_type": "markdown",
   "metadata": {},
   "source": [
    "Our baseline model, to put the Accuracy score in perspective, if the model were to pick the dominant class every time it would have a 70% Accuracy."
   ]
  },
  {
   "cell_type": "code",
   "execution_count": 62,
   "metadata": {},
   "outputs": [],
   "source": [
    "# Run for loop to test which features will improve the model's F1 & Acc score\n",
    "cols = ['REB','GP', 'PTS', 'FGM', 'FG%', '3P Made', '3PA', 'FTM', 'FTA', 'FT%', 'OREB', 'DREB', 'AST', 'STL', 'BLK','TOV', 'Pk', \"3P%\", 'FT%', '3PA_Shot', 'attend_college', 'conference']"
   ]
  },
  {
   "cell_type": "code",
   "execution_count": 63,
   "metadata": {},
   "outputs": [
    {
     "name": "stderr",
     "output_type": "stream",
     "text": [
      "/Users/Dan/opt/anaconda3/lib/python3.7/site-packages/sklearn/linear_model/logistic.py:433: FutureWarning: Default solver will be changed to 'lbfgs' in 0.22. Specify a solver to silence this warning.\n",
      "  FutureWarning)\n",
      "/Users/Dan/opt/anaconda3/lib/python3.7/site-packages/sklearn/linear_model/logistic.py:433: FutureWarning: Default solver will be changed to 'lbfgs' in 0.22. Specify a solver to silence this warning.\n",
      "  FutureWarning)\n",
      "/Users/Dan/opt/anaconda3/lib/python3.7/site-packages/sklearn/linear_model/logistic.py:433: FutureWarning: Default solver will be changed to 'lbfgs' in 0.22. Specify a solver to silence this warning.\n",
      "  FutureWarning)\n",
      "/Users/Dan/opt/anaconda3/lib/python3.7/site-packages/sklearn/linear_model/logistic.py:433: FutureWarning: Default solver will be changed to 'lbfgs' in 0.22. Specify a solver to silence this warning.\n",
      "  FutureWarning)\n",
      "/Users/Dan/opt/anaconda3/lib/python3.7/site-packages/sklearn/linear_model/logistic.py:433: FutureWarning: Default solver will be changed to 'lbfgs' in 0.22. Specify a solver to silence this warning.\n",
      "  FutureWarning)\n",
      "/Users/Dan/opt/anaconda3/lib/python3.7/site-packages/sklearn/linear_model/logistic.py:433: FutureWarning: Default solver will be changed to 'lbfgs' in 0.22. Specify a solver to silence this warning.\n",
      "  FutureWarning)\n",
      "/Users/Dan/opt/anaconda3/lib/python3.7/site-packages/sklearn/linear_model/logistic.py:433: FutureWarning: Default solver will be changed to 'lbfgs' in 0.22. Specify a solver to silence this warning.\n",
      "  FutureWarning)\n",
      "/Users/Dan/opt/anaconda3/lib/python3.7/site-packages/sklearn/linear_model/logistic.py:433: FutureWarning: Default solver will be changed to 'lbfgs' in 0.22. Specify a solver to silence this warning.\n",
      "  FutureWarning)\n",
      "/Users/Dan/opt/anaconda3/lib/python3.7/site-packages/sklearn/linear_model/logistic.py:433: FutureWarning: Default solver will be changed to 'lbfgs' in 0.22. Specify a solver to silence this warning.\n",
      "  FutureWarning)\n",
      "/Users/Dan/opt/anaconda3/lib/python3.7/site-packages/sklearn/linear_model/logistic.py:433: FutureWarning: Default solver will be changed to 'lbfgs' in 0.22. Specify a solver to silence this warning.\n",
      "  FutureWarning)\n",
      "/Users/Dan/opt/anaconda3/lib/python3.7/site-packages/sklearn/linear_model/logistic.py:433: FutureWarning: Default solver will be changed to 'lbfgs' in 0.22. Specify a solver to silence this warning.\n",
      "  FutureWarning)\n",
      "/Users/Dan/opt/anaconda3/lib/python3.7/site-packages/sklearn/linear_model/logistic.py:433: FutureWarning: Default solver will be changed to 'lbfgs' in 0.22. Specify a solver to silence this warning.\n",
      "  FutureWarning)\n",
      "/Users/Dan/opt/anaconda3/lib/python3.7/site-packages/sklearn/linear_model/logistic.py:433: FutureWarning: Default solver will be changed to 'lbfgs' in 0.22. Specify a solver to silence this warning.\n",
      "  FutureWarning)\n",
      "/Users/Dan/opt/anaconda3/lib/python3.7/site-packages/sklearn/linear_model/logistic.py:433: FutureWarning: Default solver will be changed to 'lbfgs' in 0.22. Specify a solver to silence this warning.\n",
      "  FutureWarning)\n",
      "/Users/Dan/opt/anaconda3/lib/python3.7/site-packages/sklearn/linear_model/logistic.py:433: FutureWarning: Default solver will be changed to 'lbfgs' in 0.22. Specify a solver to silence this warning.\n",
      "  FutureWarning)\n",
      "/Users/Dan/opt/anaconda3/lib/python3.7/site-packages/sklearn/linear_model/logistic.py:433: FutureWarning: Default solver will be changed to 'lbfgs' in 0.22. Specify a solver to silence this warning.\n",
      "  FutureWarning)\n",
      "/Users/Dan/opt/anaconda3/lib/python3.7/site-packages/sklearn/linear_model/logistic.py:433: FutureWarning: Default solver will be changed to 'lbfgs' in 0.22. Specify a solver to silence this warning.\n",
      "  FutureWarning)\n",
      "/Users/Dan/opt/anaconda3/lib/python3.7/site-packages/sklearn/linear_model/logistic.py:433: FutureWarning: Default solver will be changed to 'lbfgs' in 0.22. Specify a solver to silence this warning.\n",
      "  FutureWarning)\n",
      "/Users/Dan/opt/anaconda3/lib/python3.7/site-packages/sklearn/linear_model/logistic.py:433: FutureWarning: Default solver will be changed to 'lbfgs' in 0.22. Specify a solver to silence this warning.\n",
      "  FutureWarning)\n",
      "/Users/Dan/opt/anaconda3/lib/python3.7/site-packages/sklearn/linear_model/logistic.py:433: FutureWarning: Default solver will be changed to 'lbfgs' in 0.22. Specify a solver to silence this warning.\n",
      "  FutureWarning)\n",
      "/Users/Dan/opt/anaconda3/lib/python3.7/site-packages/sklearn/linear_model/logistic.py:433: FutureWarning: Default solver will be changed to 'lbfgs' in 0.22. Specify a solver to silence this warning.\n",
      "  FutureWarning)\n",
      "/Users/Dan/opt/anaconda3/lib/python3.7/site-packages/sklearn/linear_model/logistic.py:433: FutureWarning: Default solver will be changed to 'lbfgs' in 0.22. Specify a solver to silence this warning.\n",
      "  FutureWarning)\n"
     ]
    }
   ],
   "source": [
    "# Will output the feature that needs to be dropped to improve the log model\n",
    "for x in cols:\n",
    "    df_test= df1.drop(columns=[x])\n",
    "    target = df_test['FINAL_5Yrs']\n",
    "    features = df_test.drop(['FINAL_5Yrs'], axis=1)\n",
    "    X_train, X_test, y_train, y_test = train_test_split(features, target, random_state=25,test_size=0.20)\n",
    "    lr = LogisticRegression(class_weight='balanced')\n",
    "    lr.fit(X_train, y_train)\n",
    "    lr_preds = lr.predict(X_test)\n",
    "    lr_f1 = metrics.f1_score(y_test, lr_preds)\n",
    "    lr_acc = metrics.accuracy_score(y_test, lr_preds)\n",
    "    if lr_f1 > log_f1 or lr_acc > log_acc:\n",
    "        print(x,'LR Test F1 score: ', lr_f1, (lr_f1-log_f1))\n",
    "        print(x,'LR Test Accuracy score: ', lr_acc, (lr_acc-log_acc))\n",
    "    else:\n",
    "        continue"
   ]
  },
  {
   "cell_type": "markdown",
   "metadata": {},
   "source": [
    "### F-Test Feature Selection"
   ]
  },
  {
   "cell_type": "code",
   "execution_count": 64,
   "metadata": {},
   "outputs": [
    {
     "name": "stderr",
     "output_type": "stream",
     "text": [
      "/Users/Dan/opt/anaconda3/lib/python3.7/site-packages/sklearn/preprocessing/data.py:645: DataConversionWarning: Data with input dtype uint8, int64, float64 were all converted to float64 by StandardScaler.\n",
      "  return self.partial_fit(X, y)\n",
      "/Users/Dan/opt/anaconda3/lib/python3.7/site-packages/ipykernel_launcher.py:8: DataConversionWarning: Data with input dtype uint8, int64, float64 were all converted to float64 by StandardScaler.\n",
      "  \n",
      "/Users/Dan/opt/anaconda3/lib/python3.7/site-packages/ipykernel_launcher.py:10: DataConversionWarning: Data with input dtype uint8, int64, float64 were all converted to float64 by StandardScaler.\n",
      "  # Remove the CWD from sys.path while we load stuff.\n"
     ]
    },
    {
     "data": {
      "text/plain": [
       "SelectKBest(k=22, score_func=<function f_regression at 0x1a195aa320>)"
      ]
     },
     "execution_count": 64,
     "metadata": {},
     "output_type": "execute_result"
    }
   ],
   "source": [
    "from sklearn.feature_selection import SelectKBest, f_regression,mutual_info_regression\n",
    "X_train, X_test, y_train, y_test = train_test_split(features, target, random_state=25,test_size=0.20)\n",
    "\n",
    "scaler = StandardScaler()\n",
    "# fit the scaler to the training data\n",
    "scaler.fit(X_train)\n",
    "#transform the training data\n",
    "X_train = pd.DataFrame(data = scaler.transform(X_train), columns = features.columns)\n",
    "#transform the testing dat\n",
    "X_test = pd.DataFrame(data = scaler.transform(X_test), columns = features.columns)\n",
    "\n",
    "selector = SelectKBest(f_regression, k=22)\n",
    "\n",
    "selector.fit(X_train, y_train)"
   ]
  },
  {
   "cell_type": "code",
   "execution_count": 65,
   "metadata": {},
   "outputs": [],
   "source": [
    "selected_columns = X_train.columns[selector.get_support()]\n",
    "removed_columns = X_train.columns[~selector.get_support()]\n",
    "# X_train = X_train[selected_columns]\n",
    "# X_test = X_test[selected_columns]"
   ]
  },
  {
   "cell_type": "code",
   "execution_count": 66,
   "metadata": {
    "scrolled": false
   },
   "outputs": [
    {
     "name": "stderr",
     "output_type": "stream",
     "text": [
      "/Users/Dan/opt/anaconda3/lib/python3.7/site-packages/sklearn/linear_model/logistic.py:433: FutureWarning: Default solver will be changed to 'lbfgs' in 0.22. Specify a solver to silence this warning.\n",
      "  FutureWarning)\n"
     ]
    },
    {
     "name": "stdout",
     "output_type": "stream",
     "text": [
      "Test F1 score:  0.8185053380782917\n",
      "Test Accuracy score:  0.7594339622641509\n"
     ]
    }
   ],
   "source": [
    "log_kbest = LogisticRegression(class_weight='balanced')\n",
    "log_kbest = log_kbest.fit(X_train[selected_columns], y_train)\n",
    "\n",
    "log_kpreds = log_kbest.predict(X_test[selected_columns])\n",
    "\n",
    "log_kf1 = metrics.f1_score(y_test, log_kpreds)\n",
    "\n",
    "log_kacc = metrics.accuracy_score(y_test, log_kpreds)\n",
    "\n",
    "print('Test F1 score: ', log_kf1)\n",
    "print('Test Accuracy score: ', log_kacc)"
   ]
  },
  {
   "cell_type": "markdown",
   "metadata": {},
   "source": [
    "A worse result across the board than our baseline Logistic Regression model"
   ]
  },
  {
   "cell_type": "markdown",
   "metadata": {},
   "source": [
    "### Gridsearch - Log Regression"
   ]
  },
  {
   "cell_type": "code",
   "execution_count": 67,
   "metadata": {},
   "outputs": [],
   "source": [
    "X_train, X_test, y_train, y_test = train_test_split(features, target, random_state=25,test_size=0.20)"
   ]
  },
  {
   "cell_type": "code",
   "execution_count": 68,
   "metadata": {},
   "outputs": [],
   "source": [
    "logreg = LogisticRegression(class_weight = 'balanced',solver='liblinear')"
   ]
  },
  {
   "cell_type": "code",
   "execution_count": 69,
   "metadata": {},
   "outputs": [
    {
     "data": {
      "text/plain": [
       "LogisticRegression(C=1.0, class_weight='balanced', dual=False,\n",
       "          fit_intercept=True, intercept_scaling=1, max_iter=100,\n",
       "          multi_class='warn', n_jobs=None, penalty='l2', random_state=None,\n",
       "          solver='liblinear', tol=0.0001, verbose=0, warm_start=False)"
      ]
     },
     "execution_count": 69,
     "metadata": {},
     "output_type": "execute_result"
    }
   ],
   "source": [
    "logreg"
   ]
  },
  {
   "cell_type": "code",
   "execution_count": 70,
   "metadata": {},
   "outputs": [],
   "source": [
    "parameters = {'C': [0.25,0.35,0.5,0.75,1.0],\n",
    "             'max_iter': [100,200,300,400,500]}"
   ]
  },
  {
   "cell_type": "code",
   "execution_count": 71,
   "metadata": {},
   "outputs": [
    {
     "name": "stdout",
     "output_type": "stream",
     "text": [
      "Fitting 5 folds for each of 25 candidates, totalling 125 fits\n"
     ]
    },
    {
     "name": "stderr",
     "output_type": "stream",
     "text": [
      "[Parallel(n_jobs=-1)]: Using backend LokyBackend with 4 concurrent workers.\n",
      "[Parallel(n_jobs=-1)]: Done  49 tasks      | elapsed:    7.1s\n",
      "[Parallel(n_jobs=-1)]: Done 125 out of 125 | elapsed:    8.4s finished\n"
     ]
    },
    {
     "data": {
      "text/plain": [
       "GridSearchCV(cv=5, error_score='raise-deprecating',\n",
       "       estimator=LogisticRegression(C=1.0, class_weight='balanced', dual=False,\n",
       "          fit_intercept=True, intercept_scaling=1, max_iter=100,\n",
       "          multi_class='warn', n_jobs=None, penalty='l2', random_state=None,\n",
       "          solver='liblinear', tol=0.0001, verbose=0, warm_start=False),\n",
       "       fit_params=None, iid='warn', n_jobs=-1,\n",
       "       param_grid={'C': [0.25, 0.35, 0.5, 0.75, 1.0], 'max_iter': [100, 200, 300, 400, 500]},\n",
       "       pre_dispatch='2*n_jobs', refit=True, return_train_score='warn',\n",
       "       scoring='f1', verbose=1)"
      ]
     },
     "execution_count": 71,
     "metadata": {},
     "output_type": "execute_result"
    }
   ],
   "source": [
    "grid_tree1=GridSearchCV(logreg, parameters, cv=5, scoring='f1',verbose =1,n_jobs=-1)\n",
    "\n",
    "grid_tree1.fit(X_train,y_train)"
   ]
  },
  {
   "cell_type": "code",
   "execution_count": 72,
   "metadata": {},
   "outputs": [
    {
     "name": "stdout",
     "output_type": "stream",
     "text": [
      "0.7894384764339318\n",
      "{'C': 0.5, 'max_iter': 100}\n",
      "LogisticRegression(C=0.5, class_weight='balanced', dual=False,\n",
      "          fit_intercept=True, intercept_scaling=1, max_iter=100,\n",
      "          multi_class='warn', n_jobs=None, penalty='l2', random_state=None,\n",
      "          solver='liblinear', tol=0.0001, verbose=0, warm_start=False)\n"
     ]
    }
   ],
   "source": [
    "# Single best score achieved across all params (min_samples_split)\n",
    "print(grid_tree1.best_score_)\n",
    "\n",
    "# Dictionary containing the parameters (min_samples_split) used to generate that score\n",
    "print(grid_tree1.best_params_)\n",
    "\n",
    "# Actual model object fit with those best parameters\n",
    "# Shows default parameters that we did not specify\n",
    "print(grid_tree1.best_estimator_)"
   ]
  },
  {
   "cell_type": "code",
   "execution_count": 73,
   "metadata": {},
   "outputs": [
    {
     "name": "stdout",
     "output_type": "stream",
     "text": [
      "Test F1 Score: 0.845360824742268\n",
      "Test Accuracy Score: 0.7877358490566038\n"
     ]
    }
   ],
   "source": [
    "#Predict the response for test dataset\n",
    "y_pred = grid_tree1.best_estimator_.predict(X_test)\n",
    "\n",
    "# Model Accuracy, how often is the classifier correct?\n",
    "print(\"Test F1 Score:\",metrics.f1_score(y_test, y_pred))\n",
    "print(\"Test Accuracy Score:\",metrics.accuracy_score(y_test, y_pred))"
   ]
  },
  {
   "cell_type": "markdown",
   "metadata": {},
   "source": [
    "Right around what we saw from our baseline model."
   ]
  },
  {
   "cell_type": "markdown",
   "metadata": {},
   "source": [
    "### Gridsearch - Log Regression with F-Test"
   ]
  },
  {
   "cell_type": "code",
   "execution_count": 74,
   "metadata": {},
   "outputs": [
    {
     "name": "stderr",
     "output_type": "stream",
     "text": [
      "/Users/Dan/opt/anaconda3/lib/python3.7/site-packages/sklearn/preprocessing/data.py:645: DataConversionWarning: Data with input dtype uint8, int64, float64 were all converted to float64 by StandardScaler.\n",
      "  return self.partial_fit(X, y)\n",
      "/Users/Dan/opt/anaconda3/lib/python3.7/site-packages/ipykernel_launcher.py:8: DataConversionWarning: Data with input dtype uint8, int64, float64 were all converted to float64 by StandardScaler.\n",
      "  \n",
      "/Users/Dan/opt/anaconda3/lib/python3.7/site-packages/ipykernel_launcher.py:10: DataConversionWarning: Data with input dtype uint8, int64, float64 were all converted to float64 by StandardScaler.\n",
      "  # Remove the CWD from sys.path while we load stuff.\n"
     ]
    },
    {
     "data": {
      "text/plain": [
       "SelectKBest(k=22, score_func=<function f_regression at 0x1a195aa320>)"
      ]
     },
     "execution_count": 74,
     "metadata": {},
     "output_type": "execute_result"
    }
   ],
   "source": [
    "from sklearn.feature_selection import SelectKBest, f_regression,mutual_info_regression\n",
    "X_train, X_test, y_train, y_test = train_test_split(features, target, random_state=25,test_size=0.20)\n",
    "\n",
    "scaler = StandardScaler()\n",
    "# fit the scaler to the training data\n",
    "scaler.fit(X_train)\n",
    "#transform the training data\n",
    "X_train = pd.DataFrame(data = scaler.transform(X_train), columns = features.columns)\n",
    "#transform the testing dat\n",
    "X_test = pd.DataFrame(data = scaler.transform(X_test), columns = features.columns)\n",
    "\n",
    "selector = SelectKBest(f_regression, k=22)\n",
    "\n",
    "selector.fit(X_train, y_train)"
   ]
  },
  {
   "cell_type": "code",
   "execution_count": 75,
   "metadata": {},
   "outputs": [],
   "source": [
    "selected_columns = X_train.columns[selector.get_support()]\n",
    "removed_columns = X_train.columns[~selector.get_support()]\n",
    "# X_train = X_train[selected_columns]\n",
    "# X_test = X_test[selected_columns]"
   ]
  },
  {
   "cell_type": "code",
   "execution_count": 76,
   "metadata": {},
   "outputs": [],
   "source": [
    "logreg_kbest = LogisticRegression(class_weight = 'balanced',solver='liblinear')"
   ]
  },
  {
   "cell_type": "code",
   "execution_count": 77,
   "metadata": {},
   "outputs": [
    {
     "data": {
      "text/plain": [
       "LogisticRegression(C=1.0, class_weight='balanced', dual=False,\n",
       "          fit_intercept=True, intercept_scaling=1, max_iter=100,\n",
       "          multi_class='warn', n_jobs=None, penalty='l2', random_state=None,\n",
       "          solver='liblinear', tol=0.0001, verbose=0, warm_start=False)"
      ]
     },
     "execution_count": 77,
     "metadata": {},
     "output_type": "execute_result"
    }
   ],
   "source": [
    "logreg_kbest"
   ]
  },
  {
   "cell_type": "code",
   "execution_count": 78,
   "metadata": {},
   "outputs": [],
   "source": [
    "parameters = {'C': [0.25,0.35,0.5,0.75,1.0],\n",
    "             'max_iter': [100,200,300,400,500]}"
   ]
  },
  {
   "cell_type": "code",
   "execution_count": 79,
   "metadata": {},
   "outputs": [
    {
     "name": "stdout",
     "output_type": "stream",
     "text": [
      "Fitting 5 folds for each of 25 candidates, totalling 125 fits\n"
     ]
    },
    {
     "name": "stderr",
     "output_type": "stream",
     "text": [
      "[Parallel(n_jobs=-1)]: Using backend LokyBackend with 4 concurrent workers.\n",
      "[Parallel(n_jobs=-1)]: Done 125 out of 125 | elapsed:    1.1s finished\n"
     ]
    },
    {
     "data": {
      "text/plain": [
       "GridSearchCV(cv=5, error_score='raise-deprecating',\n",
       "       estimator=LogisticRegression(C=1.0, class_weight='balanced', dual=False,\n",
       "          fit_intercept=True, intercept_scaling=1, max_iter=100,\n",
       "          multi_class='warn', n_jobs=None, penalty='l2', random_state=None,\n",
       "          solver='liblinear', tol=0.0001, verbose=0, warm_start=False),\n",
       "       fit_params=None, iid='warn', n_jobs=-1,\n",
       "       param_grid={'C': [0.25, 0.35, 0.5, 0.75, 1.0], 'max_iter': [100, 200, 300, 400, 500]},\n",
       "       pre_dispatch='2*n_jobs', refit=True, return_train_score='warn',\n",
       "       scoring='f1', verbose=1)"
      ]
     },
     "execution_count": 79,
     "metadata": {},
     "output_type": "execute_result"
    }
   ],
   "source": [
    "grid_tree2=GridSearchCV(logreg_kbest, parameters, cv=5, scoring='f1',verbose =1,n_jobs=-1)\n",
    "\n",
    "grid_tree2.fit(X_train[selected_columns], y_train)"
   ]
  },
  {
   "cell_type": "code",
   "execution_count": 80,
   "metadata": {
    "scrolled": true
   },
   "outputs": [
    {
     "name": "stdout",
     "output_type": "stream",
     "text": [
      "0.784425931294902\n",
      "{'C': 0.35, 'max_iter': 100}\n",
      "LogisticRegression(C=0.35, class_weight='balanced', dual=False,\n",
      "          fit_intercept=True, intercept_scaling=1, max_iter=100,\n",
      "          multi_class='warn', n_jobs=None, penalty='l2', random_state=None,\n",
      "          solver='liblinear', tol=0.0001, verbose=0, warm_start=False)\n"
     ]
    }
   ],
   "source": [
    "# Single best score achieved across all params (min_samples_split)\n",
    "print(grid_tree2.best_score_)\n",
    "\n",
    "# Dictionary containing the parameters (min_samples_split) used to generate that score\n",
    "print(grid_tree2.best_params_)\n",
    "\n",
    "# Actual model object fit with those best parameters\n",
    "# Shows default parameters that we did not specify\n",
    "print(grid_tree2.best_estimator_)"
   ]
  },
  {
   "cell_type": "code",
   "execution_count": 81,
   "metadata": {},
   "outputs": [
    {
     "name": "stdout",
     "output_type": "stream",
     "text": [
      "Test F1 Score: 0.822695035460993\n",
      "Test Accuracy Score: 0.7641509433962265\n"
     ]
    }
   ],
   "source": [
    "#Predict the response for test dataset\n",
    "y_pred = grid_tree2.best_estimator_.predict(X_test[selected_columns])\n",
    "\n",
    "# Model Accuracy, how often is the classifier correct?\n",
    "print(\"Test F1 Score:\",metrics.f1_score(y_test, y_pred))\n",
    "print(\"Test Accuracy Score:\",metrics.accuracy_score(y_test, y_pred))"
   ]
  },
  {
   "cell_type": "markdown",
   "metadata": {},
   "source": [
    "Worse result than our baseline and gridsearch"
   ]
  },
  {
   "cell_type": "markdown",
   "metadata": {},
   "source": [
    "### KNN"
   ]
  },
  {
   "cell_type": "code",
   "execution_count": 82,
   "metadata": {
    "scrolled": true
   },
   "outputs": [
    {
     "name": "stderr",
     "output_type": "stream",
     "text": [
      "/Users/Dan/opt/anaconda3/lib/python3.7/site-packages/sklearn/preprocessing/data.py:645: DataConversionWarning: Data with input dtype uint8, int64, float64 were all converted to float64 by StandardScaler.\n",
      "  return self.partial_fit(X, y)\n",
      "/Users/Dan/opt/anaconda3/lib/python3.7/site-packages/ipykernel_launcher.py:7: DataConversionWarning: Data with input dtype uint8, int64, float64 were all converted to float64 by StandardScaler.\n",
      "  import sys\n",
      "/Users/Dan/opt/anaconda3/lib/python3.7/site-packages/ipykernel_launcher.py:9: DataConversionWarning: Data with input dtype uint8, int64, float64 were all converted to float64 by StandardScaler.\n",
      "  if __name__ == '__main__':\n"
     ]
    },
    {
     "name": "stdout",
     "output_type": "stream",
     "text": [
      "Test F1 score:  0.8414634146341463\n",
      "Test Accuracy score:  0.7547169811320755\n"
     ]
    }
   ],
   "source": [
    "X_train, X_test, y_train, y_test = train_test_split(features, target, random_state=25,test_size=0.20)\n",
    "\n",
    "scaler = StandardScaler()\n",
    "# fit the scaler to the training data\n",
    "scaler.fit(X_train)\n",
    "#transform the training data\n",
    "X_train = pd.DataFrame(data = scaler.transform(X_train), columns = features.columns)\n",
    "#transform the testing data\n",
    "X_test = pd.DataFrame(data = scaler.transform(X_test), columns = features.columns)\n",
    "\n",
    "knn = KNeighborsClassifier(n_neighbors=11)\n",
    "knn.fit(X_train, y_train)\n",
    "\n",
    "knn_preds = knn.predict(X_test)\n",
    "\n",
    "knn_f1 = metrics.f1_score(y_test, knn_preds)\n",
    "\n",
    "knn_acc = metrics.accuracy_score(y_test, knn_preds)\n",
    "\n",
    "print('Test F1 score: ', knn_f1)\n",
    "print('Test Accuracy score: ', knn_acc)"
   ]
  },
  {
   "cell_type": "markdown",
   "metadata": {},
   "source": [
    "A KNN model before solving for the class imbalance. Worse than our baseline but not as bad as we thought it could be."
   ]
  },
  {
   "cell_type": "markdown",
   "metadata": {},
   "source": [
    "### Upsampling KNN"
   ]
  },
  {
   "cell_type": "code",
   "execution_count": 83,
   "metadata": {},
   "outputs": [
    {
     "data": {
      "text/plain": [
       "0.7088846880907372"
      ]
     },
     "execution_count": 83,
     "metadata": {},
     "output_type": "execute_result"
    }
   ],
   "source": [
    "750/(750+308)"
   ]
  },
  {
   "cell_type": "code",
   "execution_count": 84,
   "metadata": {},
   "outputs": [],
   "source": [
    "# separate minority and majority classes\n",
    "short = df1[df1['FINAL_5Yrs']==0]\n",
    "long = df1[df1['FINAL_5Yrs']==1]"
   ]
  },
  {
   "cell_type": "code",
   "execution_count": 85,
   "metadata": {},
   "outputs": [
    {
     "name": "stdout",
     "output_type": "stream",
     "text": [
      "short count: 308\n",
      "long count: 750\n"
     ]
    }
   ],
   "source": [
    "print('short count: '+ str(len(short)))\n",
    "print('long count: '+ str(len(long)))"
   ]
  },
  {
   "cell_type": "code",
   "execution_count": 86,
   "metadata": {},
   "outputs": [],
   "source": [
    "short_upsampled = resample(short,\n",
    "                          replace=True, # sample with replacement\n",
    "                          n_samples=len(long), # match number in majority class\n",
    "                          random_state=25) # reproducible results"
   ]
  },
  {
   "cell_type": "code",
   "execution_count": 87,
   "metadata": {
    "scrolled": true
   },
   "outputs": [
    {
     "data": {
      "text/plain": [
       "(750, 57)"
      ]
     },
     "execution_count": 87,
     "metadata": {},
     "output_type": "execute_result"
    }
   ],
   "source": [
    "short_upsampled.shape"
   ]
  },
  {
   "cell_type": "code",
   "execution_count": 88,
   "metadata": {
    "scrolled": true
   },
   "outputs": [
    {
     "data": {
      "text/plain": [
       "1    750\n",
       "0    750\n",
       "Name: FINAL_5Yrs, dtype: int64"
      ]
     },
     "execution_count": 88,
     "metadata": {},
     "output_type": "execute_result"
    }
   ],
   "source": [
    "# combine majority and upsampled minority\n",
    "upsampled = pd.concat([long, short_upsampled])\n",
    "\n",
    "# check new class counts\n",
    "upsampled.FINAL_5Yrs.value_counts()"
   ]
  },
  {
   "cell_type": "code",
   "execution_count": 89,
   "metadata": {
    "scrolled": true
   },
   "outputs": [
    {
     "data": {
      "text/plain": [
       "1500"
      ]
     },
     "execution_count": 89,
     "metadata": {},
     "output_type": "execute_result"
    }
   ],
   "source": [
    "len(upsampled)"
   ]
  },
  {
   "cell_type": "code",
   "execution_count": 90,
   "metadata": {},
   "outputs": [
    {
     "name": "stderr",
     "output_type": "stream",
     "text": [
      "/Users/Dan/opt/anaconda3/lib/python3.7/site-packages/sklearn/preprocessing/data.py:645: DataConversionWarning: Data with input dtype uint8, int64, float64 were all converted to float64 by StandardScaler.\n",
      "  return self.partial_fit(X, y)\n",
      "/Users/Dan/opt/anaconda3/lib/python3.7/site-packages/ipykernel_launcher.py:14: DataConversionWarning: Data with input dtype uint8, int64, float64 were all converted to float64 by StandardScaler.\n",
      "  \n",
      "/Users/Dan/opt/anaconda3/lib/python3.7/site-packages/ipykernel_launcher.py:16: DataConversionWarning: Data with input dtype uint8, int64, float64 were all converted to float64 by StandardScaler.\n",
      "  app.launch_new_instance()\n"
     ]
    },
    {
     "name": "stdout",
     "output_type": "stream",
     "text": [
      "Test F1 score:  0.7912087912087912\n",
      "Test Accuracy score:  0.7311320754716981\n"
     ]
    }
   ],
   "source": [
    "# Remove target variable to begin modeling\n",
    "target = df1['FINAL_5Yrs']\n",
    "features = df1.drop(['FINAL_5Yrs'], axis=1)\n",
    "\n",
    "X_train, X_test, y_train, y_test = train_test_split(features, target, random_state=25,test_size=0.20)\n",
    "\n",
    "y_train = upsampled.FINAL_5Yrs\n",
    "X_train = upsampled.drop('FINAL_5Yrs', axis=1)\n",
    "\n",
    "scaler = StandardScaler()\n",
    "# fit the scaler to the training data\n",
    "scaler.fit(X_train)\n",
    "#transform the training data\n",
    "X_train = pd.DataFrame(data = scaler.transform(X_train), columns = features.columns)\n",
    "#transform the testing dat\n",
    "X_test = pd.DataFrame(data = scaler.transform(X_test), columns = features.columns)\n",
    "\n",
    "knn = KNeighborsClassifier(n_neighbors=11)\n",
    "knn.fit(X_train, y_train)\n",
    "\n",
    "knn_preds = knn.predict(X_test)\n",
    "\n",
    "knn_f1 = metrics.f1_score(y_test, knn_preds)\n",
    "\n",
    "knn_acc = metrics.accuracy_score(y_test, knn_preds)\n",
    "\n",
    "print('Test F1 score: ', knn_f1)\n",
    "print('Test Accuracy score: ', knn_acc)"
   ]
  },
  {
   "cell_type": "markdown",
   "metadata": {},
   "source": [
    "Upsampling the data actually made the model perform worse, both models performed worse than the gridsearch and regular logistic regression."
   ]
  },
  {
   "cell_type": "markdown",
   "metadata": {},
   "source": [
    "### Decision Tree"
   ]
  },
  {
   "cell_type": "code",
   "execution_count": 91,
   "metadata": {},
   "outputs": [
    {
     "name": "stdout",
     "output_type": "stream",
     "text": [
      "Test F1 score:  0.8129032258064518\n",
      "Test Accuracy score:  0.7264150943396226\n"
     ]
    }
   ],
   "source": [
    "X_train, X_test, y_train, y_test = train_test_split(features1, target1, random_state=25,test_size=0.20)\n",
    "\n",
    "dtc = DecisionTreeClassifier(random_state = 25, class_weight='balanced')\n",
    "\n",
    "dtc.fit(X_train, y_train)\n",
    "\n",
    "dtc_preds  = dtc.predict(X_test)\n",
    "\n",
    "dtc_f1 = metrics.f1_score(y_test, dtc_preds)\n",
    "\n",
    "dtc_acc = metrics.accuracy_score(y_test, dtc_preds)\n",
    "\n",
    "print('Test F1 score: ', dtc_f1)\n",
    "print('Test Accuracy score: ', dtc_acc)"
   ]
  },
  {
   "cell_type": "markdown",
   "metadata": {},
   "source": [
    "Worse than our baseline model."
   ]
  },
  {
   "cell_type": "markdown",
   "metadata": {},
   "source": [
    "### Random Forest"
   ]
  },
  {
   "cell_type": "code",
   "execution_count": 92,
   "metadata": {},
   "outputs": [
    {
     "name": "stdout",
     "output_type": "stream",
     "text": [
      "Test F1 score:  0.8623853211009174\n",
      "Test Accuracy score:  0.7877358490566038\n"
     ]
    }
   ],
   "source": [
    "from sklearn.ensemble import RandomForestClassifier\n",
    "X_train, X_test, y_train, y_test = train_test_split(features1, target1, random_state=25,test_size=0.20)\n",
    "\n",
    "rfc = RandomForestClassifier(random_state = 25, n_estimators=200, max_features=10, class_weight='balanced')\n",
    "rfc.fit(X_train, y_train)\n",
    "rfc_preds = rfc.predict(X_test)\n",
    "\n",
    "rfc_f1 = metrics.f1_score(y_test, rfc_preds)\n",
    "rfc_acc = metrics.accuracy_score(y_test, rfc_preds)\n",
    "\n",
    "# checking accuracy on the test data\n",
    "print('Test F1 score: ', rfc_f1)\n",
    "print('Test Accuracy score: ', rfc_acc)"
   ]
  },
  {
   "cell_type": "markdown",
   "metadata": {},
   "source": [
    "The random forest model performed better on the F1 score but around the same in accuracy. The model is predicting the positive class at a highier rate than the other models."
   ]
  },
  {
   "cell_type": "markdown",
   "metadata": {},
   "source": [
    "### Gridsearch - Random Forest"
   ]
  },
  {
   "cell_type": "code",
   "execution_count": 93,
   "metadata": {},
   "outputs": [],
   "source": [
    "#create a dictionary of all the parameters you want to tune\n",
    "param_grid2 = { \n",
    "    'n_estimators': [100,200,400,500],\n",
    "    'max_features': ['auto',None,35],\n",
    "    'max_depth' : [5,7,9],\n",
    "    'criterion' : ['gini','entropy']\n",
    "    \n",
    "}"
   ]
  },
  {
   "cell_type": "code",
   "execution_count": 94,
   "metadata": {},
   "outputs": [
    {
     "name": "stdout",
     "output_type": "stream",
     "text": [
      "Fitting 5 folds for each of 72 candidates, totalling 360 fits\n"
     ]
    },
    {
     "name": "stderr",
     "output_type": "stream",
     "text": [
      "[Parallel(n_jobs=-1)]: Using backend LokyBackend with 4 concurrent workers.\n",
      "[Parallel(n_jobs=-1)]: Done  42 tasks      | elapsed:   29.2s\n",
      "[Parallel(n_jobs=-1)]: Done 192 tasks      | elapsed:  2.6min\n",
      "[Parallel(n_jobs=-1)]: Done 360 out of 360 | elapsed:  5.0min finished\n"
     ]
    },
    {
     "data": {
      "text/plain": [
       "GridSearchCV(cv=5, error_score='raise-deprecating',\n",
       "       estimator=RandomForestClassifier(bootstrap=True, class_weight='balanced',\n",
       "            criterion='gini', max_depth=None, max_features='auto',\n",
       "            max_leaf_nodes=None, min_impurity_decrease=0.0,\n",
       "            min_impurity_split=None, min_samples_leaf=1,\n",
       "            min_samples_split=2, min_weight_fraction_leaf=0.0,\n",
       "            n_estimators='warn', n_jobs=None, oob_score=False,\n",
       "            random_state=25, verbose=0, warm_start=False),\n",
       "       fit_params=None, iid='warn', n_jobs=-1,\n",
       "       param_grid={'n_estimators': [100, 200, 400, 500], 'max_features': ['auto', None, 35], 'max_depth': [5, 7, 9], 'criterion': ['gini', 'entropy']},\n",
       "       pre_dispatch='2*n_jobs', refit=True, return_train_score='warn',\n",
       "       scoring='f1', verbose=1)"
      ]
     },
     "execution_count": 94,
     "metadata": {},
     "output_type": "execute_result"
    }
   ],
   "source": [
    "X_train, X_test, y_train, y_test = train_test_split(features1, target1, random_state=25,test_size=0.20)\n",
    "rfc_CV = RandomForestClassifier(random_state = 25, class_weight='balanced')\n",
    "rfc_CV = GridSearchCV(estimator=rfc_CV, param_grid=param_grid2, cv= 5, scoring='f1', verbose=1, n_jobs=-1)\n",
    "rfc_CV.fit(X_train, y_train)"
   ]
  },
  {
   "cell_type": "code",
   "execution_count": 95,
   "metadata": {},
   "outputs": [
    {
     "name": "stdout",
     "output_type": "stream",
     "text": [
      "{'criterion': 'entropy', 'max_depth': 9, 'max_features': 35, 'n_estimators': 500}\n",
      "RandomForestClassifier(bootstrap=True, class_weight='balanced',\n",
      "            criterion='entropy', max_depth=9, max_features=35,\n",
      "            max_leaf_nodes=None, min_impurity_decrease=0.0,\n",
      "            min_impurity_split=None, min_samples_leaf=1,\n",
      "            min_samples_split=2, min_weight_fraction_leaf=0.0,\n",
      "            n_estimators=500, n_jobs=None, oob_score=False,\n",
      "            random_state=25, verbose=0, warm_start=False)\n",
      "0.8358224820674526\n",
      "Accuracy: 0.7735849056603774\n",
      "F1: 0.8441558441558441\n"
     ]
    }
   ],
   "source": [
    "# Identify the best params \n",
    "print(rfc_CV.best_params_)\n",
    "print(rfc_CV.best_estimator_)\n",
    "\n",
    "\n",
    "#Identify the best score during fitting with cross-validation\n",
    "print(rfc_CV.best_score_)\n",
    "\n",
    "#predict on the test set\n",
    "test_preds_rfc_CV = rfc_CV.best_estimator_.predict(X_test)\n",
    "\n",
    "# checking accuracy and F1\n",
    "print(\"Accuracy:\",metrics.accuracy_score(y_test, test_preds_rfc_CV))\n",
    "print(\"F1:\",metrics.f1_score(y_test, test_preds_rfc_CV))"
   ]
  },
  {
   "cell_type": "markdown",
   "metadata": {},
   "source": [
    "Our GridSearch Random Forest model performed worse than the regular Random Forest model."
   ]
  },
  {
   "cell_type": "markdown",
   "metadata": {},
   "source": [
    "### Voting Classifier"
   ]
  },
  {
   "cell_type": "code",
   "execution_count": 96,
   "metadata": {},
   "outputs": [
    {
     "name": "stderr",
     "output_type": "stream",
     "text": [
      "/Users/Dan/opt/anaconda3/lib/python3.7/site-packages/sklearn/linear_model/logistic.py:433: FutureWarning: Default solver will be changed to 'lbfgs' in 0.22. Specify a solver to silence this warning.\n",
      "  FutureWarning)\n"
     ]
    },
    {
     "name": "stdout",
     "output_type": "stream",
     "text": [
      "Test F1 score:  0.8655737704918033\n",
      "Test Accuracy score:  0.8066037735849056\n"
     ]
    }
   ],
   "source": [
    "voting_clf = VotingClassifier(\n",
    "                estimators=[('knneighbors', knn), ('decisiontree', dtc), ('logreg', log), ('randomforest', rfc)], \n",
    "                voting='hard', weights= [1,1,3,3])\n",
    "\n",
    "voting_clf.fit(X_train, y_train)\n",
    "\n",
    "vc_preds = voting_clf.predict(X_test)\n",
    "\n",
    "vc_f1 = metrics.f1_score(y_test, vc_preds)\n",
    "\n",
    "vc_acc = metrics.accuracy_score(y_test, vc_preds)\n",
    "\n",
    "print('Test F1 score: ', vc_f1)\n",
    "print('Test Accuracy score: ', vc_acc)"
   ]
  },
  {
   "cell_type": "markdown",
   "metadata": {},
   "source": [
    "Our best model so far, finally above 80% on accuracy and still have a similar F1 score to our best Random Forest. We saw the improvement by the weighting the voting towards our two best models, the random forest and the logistic regression."
   ]
  },
  {
   "cell_type": "markdown",
   "metadata": {},
   "source": [
    "### XG Boost"
   ]
  },
  {
   "cell_type": "code",
   "execution_count": 97,
   "metadata": {},
   "outputs": [],
   "source": [
    "labels = df2['FINAL_5Yrs']"
   ]
  },
  {
   "cell_type": "code",
   "execution_count": 98,
   "metadata": {},
   "outputs": [
    {
     "name": "stderr",
     "output_type": "stream",
     "text": [
      "/Users/Dan/opt/anaconda3/lib/python3.7/site-packages/sklearn/preprocessing/data.py:645: DataConversionWarning: Data with input dtype uint8, int64, float64 were all converted to float64 by StandardScaler.\n",
      "  return self.partial_fit(X, y)\n",
      "/Users/Dan/opt/anaconda3/lib/python3.7/site-packages/sklearn/base.py:464: DataConversionWarning: Data with input dtype uint8, int64, float64 were all converted to float64 by StandardScaler.\n",
      "  return self.fit(X, **fit_params).transform(X)\n"
     ]
    }
   ],
   "source": [
    "labels_removed_df = df2.drop('FINAL_5Yrs', axis=1, inplace=False)\n",
    "\n",
    "scaler = StandardScaler()\n",
    "scaled_df = scaler.fit_transform(labels_removed_df)\n",
    "\n",
    "X_train, X_test, y_train, y_test = train_test_split(scaled_df, labels)"
   ]
  },
  {
   "cell_type": "code",
   "execution_count": 99,
   "metadata": {},
   "outputs": [],
   "source": [
    "param_grid = {\n",
    "    \"learning_rate\": [0.1],\n",
    "    'max_depth': [5,6,7],\n",
    "    'min_child_weight': [10],\n",
    "    'subsample': [ 0.7],\n",
    "    'n_estimators': [100,200,250,300],\n",
    "}"
   ]
  },
  {
   "cell_type": "code",
   "execution_count": 100,
   "metadata": {
    "scrolled": true
   },
   "outputs": [
    {
     "name": "stdout",
     "output_type": "stream",
     "text": [
      "Fitting 5 folds for each of 12 candidates, totalling 60 fits\n"
     ]
    },
    {
     "name": "stderr",
     "output_type": "stream",
     "text": [
      "[Parallel(n_jobs=-1)]: Using backend LokyBackend with 4 concurrent workers.\n",
      "[Parallel(n_jobs=-1)]: Done  42 tasks      | elapsed:   15.4s\n",
      "[Parallel(n_jobs=-1)]: Done  60 out of  60 | elapsed:   21.8s finished\n"
     ]
    },
    {
     "name": "stdout",
     "output_type": "stream",
     "text": [
      "Grid Search found the following optimal parameters: \n",
      "learning_rate: 0.1\n",
      "max_depth: 5\n",
      "min_child_weight: 10\n",
      "n_estimators: 250\n",
      "subsample: 0.7\n",
      "\n",
      "Training Accuracy Score: 96.6%\n",
      "Training F1 Score: 97.57%\n",
      "Test Accuracy Score: 96.6%\n",
      "Test F1 Score: 97.76%\n"
     ]
    }
   ],
   "source": [
    "clf = xgb.XGBClassifier()\n",
    "grid_clf = GridSearchCV(clf, param_grid, scoring='f1', cv=5, n_jobs=-1,verbose=1)\n",
    "grid_clf.fit(scaled_df, labels)\n",
    "best_parameters = grid_clf.best_params_\n",
    "print(\"Grid Search found the following optimal parameters: \")\n",
    "for param_name in sorted(best_parameters.keys()):\n",
    "    print(\"%s: %r\" % (param_name, best_parameters[param_name]))\n",
    "training_preds = grid_clf.predict(X_train)\n",
    "val_preds = grid_clf.predict(X_test)\n",
    "training_accuracy = accuracy_score(y_train, training_preds)\n",
    "val_accuracy = accuracy_score(y_test, val_preds)\n",
    "f1_train= f1_score(y_train, training_preds)\n",
    "f1_val= f1_score(y_test, val_preds)\n",
    "print(\"\")\n",
    "print(\"Training Accuracy Score: {:.4}%\".format(training_accuracy * 100))\n",
    "print(\"Training F1 Score: {:.4}%\".format(f1_train * 100))\n",
    "print(\"Test Accuracy Score: {:.4}%\".format(val_accuracy * 100))\n",
    "print(\"Test F1 Score: {:.4}%\".format(f1_val * 100))"
   ]
  },
  {
   "cell_type": "markdown",
   "metadata": {},
   "source": [
    "Ya so this is like a really tight race to decide what our best model is... So I think we are going to roll with our XGBoost? Glad we can all agree."
   ]
  },
  {
   "cell_type": "code",
   "execution_count": null,
   "metadata": {},
   "outputs": [],
   "source": []
  },
  {
   "cell_type": "markdown",
   "metadata": {},
   "source": [
    "### XG Boost Confusion Matrix"
   ]
  },
  {
   "cell_type": "code",
   "execution_count": 101,
   "metadata": {},
   "outputs": [],
   "source": [
    "cm = confusion_matrix(y_test,val_preds)\n",
    "classes = ['<5 Years', '>=5 Years']"
   ]
  },
  {
   "cell_type": "code",
   "execution_count": 102,
   "metadata": {},
   "outputs": [],
   "source": [
    "def plot_confusion_matrix(cm, classes, normalize=False, title='Confusion matrix',cmap=plt.cm.Blues):\n",
    "    if normalize:\n",
    "        cm = cm.astype('float') / cm.sum(axis=1)[:, np.newaxis]\n",
    "    print(cm)\n",
    "    plt.imshow(cm, interpolation='nearest', cmap=cmap)\n",
    "    plt.title(title)\n",
    "    plt.colorbar()\n",
    "    tick_marks = np.arange(len(classes))\n",
    "    plt.xticks(tick_marks, classes, rotation=45)\n",
    "    plt.yticks(tick_marks, classes)\n",
    "\n",
    "    fmt = '.2f' if normalize else 'd'\n",
    "    thresh = cm.max() / 2.\n",
    "    for i, j in itertools.product(range(cm.shape[0]), range(cm.shape[1])):\n",
    "        plt.text(j, i, format(cm[i, j], fmt),\n",
    "                 horizontalalignment=\"center\",\n",
    "                 color=\"white\" if cm[i, j] > thresh else \"black\")\n",
    "\n",
    "    plt.tight_layout()\n",
    "    plt.ylabel('True label')\n",
    "    plt.xlabel('Predicted label')"
   ]
  },
  {
   "cell_type": "code",
   "execution_count": 103,
   "metadata": {},
   "outputs": [
    {
     "name": "stdout",
     "output_type": "stream",
     "text": [
      "[[ 60   7]\n",
      " [  2 196]]\n"
     ]
    },
    {
     "data": {
      "image/png": "[encoded data removed]",
      "text/plain": [
       "<Figure size 432x288 with 2 Axes>"
      ]
     },
     "metadata": {},
     "output_type": "display_data"
    }
   ],
   "source": [
    "plot_confusion_matrix(cm, classes, normalize=False, title='Confusion matrix without Normalization', cmap=plt.cm.Blues)"
   ]
  },
  {
   "cell_type": "code",
   "execution_count": 142,
   "metadata": {},
   "outputs": [
    {
     "name": "stdout",
     "output_type": "stream",
     "text": [
      "[[0.89552239 0.10447761]\n",
      " [0.01010101 0.98989899]]\n"
     ]
    },
    {
     "data": {
      "image/png": "[encoded data removed]",
      "text/plain": [
       "<Figure size 432x288 with 2 Axes>"
      ]
     },
     "metadata": {},
     "output_type": "display_data"
    }
   ],
   "source": [
    "# Normaized confusion matrix takes into account class imbalance.\n",
    "plot_confusion_matrix(cm, classes, normalize=True, title='Normalized Confusion matrix', cmap=plt.cm.Blues)"
   ]
  },
  {
   "cell_type": "code",
   "execution_count": 105,
   "metadata": {},
   "outputs": [],
   "source": [
    "TP = 174\n",
    "TN = 80\n",
    "FP = 7\n",
    "FN = 4"
   ]
  },
  {
   "cell_type": "code",
   "execution_count": 106,
   "metadata": {},
   "outputs": [
    {
     "name": "stdout",
     "output_type": "stream",
     "text": [
      "Accuracy Score 0.9584905660377359\n",
      "Precision Score 0.9613259668508287\n",
      "Recall Score 0.9775280898876404\n",
      "F1 Score 0.9693593314763231\n"
     ]
    }
   ],
   "source": [
    "Accuracy = (TP+TN)/(TP+TN+FP+FN)\n",
    "Precision = (TP/ float(TP+FP))\n",
    "Recall = (TP/ float(TP+FN))\n",
    "F1 = 2*Precision*Recall / (Precision+Recall)\n",
    "\n",
    "print('Accuracy Score',Accuracy)\n",
    "print('Precision Score',Precision)\n",
    "print('Recall Score',Recall)\n",
    "print('F1 Score',F1)"
   ]
  },
  {
   "cell_type": "markdown",
   "metadata": {},
   "source": [
    "The confusion matrix above helps us visualize where our best model is missing. What we learn is that we are incorrectly predicting more positives than negatives but neither by a particularly significant margin."
   ]
  },
  {
   "cell_type": "markdown",
   "metadata": {},
   "source": [
    "## Model Testing on 2012 NBA Draft Data Set"
   ]
  },
  {
   "cell_type": "markdown",
   "metadata": {},
   "source": [
    "Having a model that performs well on a test set from the train test split method is great but you're test set could have similar trends to your training data that don't exist in a normal draft class. So let's put our model to the test, how well could it predict the future careers of the 2012 NBA draft class?"
   ]
  },
  {
   "cell_type": "code",
   "execution_count": 107,
   "metadata": {},
   "outputs": [],
   "source": [
    "df_2012a = pd.read_csv('2012_draft_nba_rookie_stats.csv',index_col=0)\n",
    "df_2012b = pd.read_csv('2012_draft_nba_rookie_draft_info.csv',index_col=0)"
   ]
  },
  {
   "cell_type": "code",
   "execution_count": 108,
   "metadata": {},
   "outputs": [],
   "source": [
    "df_2012 = df_2012a.merge(df_2012b, on='Player', how='inner')"
   ]
  },
  {
   "cell_type": "code",
   "execution_count": 109,
   "metadata": {},
   "outputs": [],
   "source": [
    "#Created a function that will quickly clean up our datasets that we upload\n",
    "def cleanup(data,year):\n",
    "    # Created a dictionary to replace all power 5 teams with a 1\n",
    "    conf_dict = {'Kentucky':1,'Duke':1,'UNC':1,'UCLA':1,\n",
    "'Arizona':1,'Kansas':1,'Syracuse':1,'Georgia Institute of Technology':1,\n",
    "'University of Louisville':1,'University of Michigan':1,'University of Notre Dame':1,'Ohio State':1,\n",
    "'North Carolina State University':1,'University of Alabama':1,'Michigan State':1,'University of Arkansas':1,\n",
    "'Maryland':1,'Indiana University':1,'Louisiana State University':1,'Stanford University':1,\n",
    "'Purdue':1,'Florida':1,'Tennessee':1,'University of Missouri':1,\n",
    "'Oklahoma State University':1,'Illinois':1,'Clemson University':1,'Washington':1,\n",
    "'Virginia':1,'Wake Forest University':1,'University of Pittsburgh':1,'Florida State':1,\n",
    "'University of California':1,'Oregon State':1,'University of Minnesota':1,'Iowa State University':1,\n",
    "'University of Utah':1,'USC':1,'University of Iowa':1,'Boston College':1,\n",
    "'Arizona State University':1,'Georgia':1,'Colorado':1,'University of Oklahoma':1,\n",
    "'Auburn University':1,'Wisconsin':1,'Texas':1,'University of Oregon':1,\n",
    "'Vanderbilt':1,'Baylor':1,'Texas A&M':1,'University of South Carolina':1,\n",
    "'University of Nebraska':1,'Kansas State University':1,'Rutgers University':1,'University of Tennessee at Chattanooga':1,\n",
    "'Virginia Polytechnic Institute and State University':1,'Washington State':1,'Texas Christian University':1,\n",
    "'University of Mississippi':1,'Texas Tech University':1,'University of Nebraska at Kearney':1,'University of Missouri-Kansas City':1,\n",
    "'University of Alabama at Birmingham':1,'Pennsylvania State University':1,'University of Wisconsin-Green Bay':1,\n",
    "'University of Wisconsin-Stevens Point':1,'Indiana University-Purdue University Indianapolis':1,'West Virginia University':1,\n",
    "'Miami':1}\n",
    "    data.drop_duplicates(inplace=True)\n",
    "    columns_to_edit= ['MP', 'DREB','FG', 'FGA', '3P', '3PA', 'FT', 'FTA', 'ORB','TRB', 'AST', 'STL', 'BLK', 'TOV', 'PF', 'PTS']\n",
    "    data['DREB']= data['TRB']-data['ORB']\n",
    "    data['Draft_Yr']= int(year)\n",
    "    data['College']= data['College'].fillna(0)\n",
    "    data['attend_college']= np.where(data['College']==0,0,1)\n",
    "    data['G']==data['G'].map(lambda x: float(x))\n",
    "    for column in columns_to_edit:\n",
    "        data[column]= data[column].div(data.G, axis=0)\n",
    "    data[columns_to_edit].div(data.G, axis=0)\n",
    "    decimals = pd.Series([2 for i in range(len(columns_to_edit))], index=columns_to_edit)\n",
    "    data=data.round(decimals)\n",
    "    data['FINAL_5Yrs']= np.where(data['Yrs']>=5,1,0)\n",
    "    col_drop= ['MP.1', 'PTS.1', 'TRB.1', 'AST.1','Yrs']\n",
    "    data.drop(columns=col_drop, inplace=True)\n",
    "    df_final=data\n",
    "    df_final['3PA_Shot'] = np.where(df_final['3PA']>0,1,0)\n",
    "    variable= df_final[df_final['G']<11]['TOV'].mean()\n",
    "    df_final['TOV']= np.where(df_final['TOV']==0, variable, df_final['TOV'])\n",
    "    df_final['AST_TOV'] = df_final['AST']/df_final['TOV']\n",
    "    df_final['True_FG%'] = df_final['PTS']/(2*df_final['FGA'] + (.44*df_final['FTA']))*100\n",
    "    df_final['PPP'] = df_final['PTS']/(df_final['FGA']+(0.44*df_final['FTA'])+df_final['TOV'])\n",
    "    df_final['FTR'] = (df_final['FTA']/df_final['FGA'])*100\n",
    "    df_final['TOV%'] = df_final['TOV']/(df_final['FGA']+0.44 * df_final['FTA']+df_final['TOV'])*100\n",
    "    df_final['Hasst%'] = df_final['AST']/(df_final['FGA']+.475 * df_final['FTA']+df_final['AST']+df_final['TOV'])*100\n",
    "    data=df_final\n",
    "    col_conv={'G':'GP','MP':'MIN','FG':'FGM','3P':'3P Made', 'FT':'FTM','TRB':'REB','Tm':'Team','ORB':'OREB','Player':'Name'}\n",
    "    data= data.rename(columns= col_conv)\n",
    "    data['conference'] = data['College'].replace(conf_dict)\n",
    "    data['conference'] = np.where(data['conference']!=1,0,1)\n",
    "    data= data.drop(columns=[\"College\",'Draft_Yr'])#'Name'\n",
    "    data= pd.get_dummies(data, columns=[\"Team\"], drop_first=True)\n",
    "    zzz=[]\n",
    "    for col in df2.columns:\n",
    "        if col in data.columns:\n",
    "            pass\n",
    "        else:\n",
    "            zzz.append(col)\n",
    "    for z in zzz:\n",
    "        data[z]= 0\n",
    "    data=data.reindex(columns= list(df2.columns))\n",
    "    data=data.fillna(0)\n",
    "    #data.drop(columns='set', inplace=True)\n",
    "    data.to_csv(str(year)+'_draft_clean1.csv')"
   ]
  },
  {
   "cell_type": "code",
   "execution_count": 110,
   "metadata": {},
   "outputs": [],
   "source": [
    "cleanup(df_2012,2012)"
   ]
  },
  {
   "cell_type": "code",
   "execution_count": 111,
   "metadata": {},
   "outputs": [],
   "source": [
    "df_2012_cleaned = pd.read_csv('2012_draft_clean1.csv',index_col=0)"
   ]
  },
  {
   "cell_type": "code",
   "execution_count": 112,
   "metadata": {},
   "outputs": [],
   "source": [
    "#Created a function that will take our model and quickly spit back the result metrics after being run on the new test dataset\n",
    "def check_scores(data):\n",
    "    labels = data['FINAL_5Yrs']\n",
    "    labels_removed_df = data.drop('FINAL_5Yrs', axis=1, inplace=False)\n",
    "    scaler = StandardScaler()\n",
    "    scaled_df = scaler.fit_transform(labels_removed_df)\n",
    "    pleasework = grid_clf.predict(scaled_df)\n",
    "    val_accuracy = accuracy_score(labels, pleasework)\n",
    "    f1_val = f1_score(labels, pleasework)\n",
    "    print('Model Accuracy: ',val_accuracy)\n",
    "    print('Model F1: ',f1_val)\n",
    "    \n",
    "    cm2 = confusion_matrix(labels, pleasework)\n",
    "    classes2 = ['<5 Years', '>=5 Years']\n",
    "    \n",
    "    plot_confusion_matrix(cm2, classes2, normalize=False, title='Confusion matrix with Normalization', cmap=plt.cm.Blues)\n"
   ]
  },
  {
   "cell_type": "code",
   "execution_count": 113,
   "metadata": {},
   "outputs": [
    {
     "name": "stderr",
     "output_type": "stream",
     "text": [
      "/Users/Dan/opt/anaconda3/lib/python3.7/site-packages/sklearn/preprocessing/data.py:645: DataConversionWarning: Data with input dtype int64, float64 were all converted to float64 by StandardScaler.\n",
      "  return self.partial_fit(X, y)\n",
      "/Users/Dan/opt/anaconda3/lib/python3.7/site-packages/sklearn/base.py:464: DataConversionWarning: Data with input dtype int64, float64 were all converted to float64 by StandardScaler.\n",
      "  return self.fit(X, **fit_params).transform(X)\n"
     ]
    },
    {
     "name": "stdout",
     "output_type": "stream",
     "text": [
      "Model Accuracy:  0.8367346938775511\n",
      "Model F1:  0.8750000000000001\n",
      "[[13  7]\n",
      " [ 1 28]]\n"
     ]
    },
    {
     "data": {
      "image/png": "[encoded data removed]",
      "text/plain": [
       "<Figure size 432x288 with 2 Axes>"
      ]
     },
     "metadata": {},
     "output_type": "display_data"
    }
   ],
   "source": [
    "check_scores(df_2012_cleaned)"
   ]
  },
  {
   "cell_type": "code",
   "execution_count": 114,
   "metadata": {},
   "outputs": [],
   "source": [
    "TP = 28\n",
    "TN = 13\n",
    "FP = 7\n",
    "FN = 1"
   ]
  },
  {
   "cell_type": "code",
   "execution_count": 115,
   "metadata": {},
   "outputs": [
    {
     "name": "stdout",
     "output_type": "stream",
     "text": [
      "Accuracy Score 0.8367346938775511\n",
      "Precision Score 0.8\n",
      "Recall Score 0.9655172413793104\n",
      "F1 Score 0.8750000000000001\n"
     ]
    }
   ],
   "source": [
    "Accuracy = (TP+TN)/(TP+TN+FP+FN)\n",
    "Precision = (TP/ float(TP+FP))\n",
    "Recall = (TP/ float(TP+FN))\n",
    "F1 = 2*Precision*Recall / (Precision+Recall)\n",
    "\n",
    "print('Accuracy Score',Accuracy)\n",
    "print('Precision Score',Precision)\n",
    "print('Recall Score',Recall)\n",
    "print('F1 Score',F1)"
   ]
  },
  {
   "cell_type": "markdown",
   "metadata": {},
   "source": [
    "After testing our model on the 2012 NBA draft class, we found that our model didn't perform as well as it did on our original data set. But the model still does a very good job at predicting both our positive and negative classes."
   ]
  }
 ],
 "metadata": {
  "hide_input": false,
  "kernelspec": {
   "display_name": "Python 3",
   "language": "python",
   "name": "python3"
  },
  "language_info": {
   "codemirror_mode": {
    "name": "ipython",
    "version": 3
   },
   "file_extension": ".py",
   "mimetype": "text/x-python",
   "name": "python",
   "nbconvert_exporter": "python",
   "pygments_lexer": "ipython3",
   "version": "3.7.6"
  },
  "toc": {
   "base_numbering": 1,
   "nav_menu": {},
   "number_sections": true,
   "sideBar": true,
   "skip_h1_title": false,
   "title_cell": "Table of Contents",
   "title_sidebar": "Contents",
   "toc_cell": false,
   "toc_position": {},
   "toc_section_display": true,
   "toc_window_display": false
  }
 },
 "nbformat": 4,
 "nbformat_minor": 4
}
